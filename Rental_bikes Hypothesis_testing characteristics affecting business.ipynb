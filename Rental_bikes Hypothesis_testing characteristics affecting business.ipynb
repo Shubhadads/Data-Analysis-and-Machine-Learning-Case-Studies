{
 "cells": [
  {
   "cell_type": "code",
   "execution_count": null,
   "metadata": {
    "id": "dWwqospNyG1c"
   },
   "outputs": [],
   "source": []
  },
  {
   "cell_type": "markdown",
   "metadata": {
    "id": "bbnENHWgy-WT"
   },
   "source": [
    "About Rental_bikes\n",
    "\n",
    "Rental_bikes is India’s leading micro-mobility service provider, which offers unique vehicles for the daily commute. Starting off as a mission to eliminate traffic congestion in India, Rental_bikes provides the safest commute solution through a user-friendly mobile app to enable shared, solo and sustainable commuting.\n",
    "\n",
    "Rental_bikes zones are located at all the appropriate locations (including metro stations, bus stands, office spaces, residential areas, corporate offices, etc) to make those first and last miles smooth, affordable, and convenient!\n",
    "\n",
    "Rental_bikes has recently suffered considerable dips in its revenues. They have contracted a consulting company to understand the factors on which the demand for these shared electric cycles depends. Specifically, they want to understand the factors affecting the demand for these shared electric cycles in the Indian market.\n",
    "\n",
    "How you can help here?\n",
    "\n",
    "The company wants to know:\n",
    "\n",
    "Which variables are significant in predicting the demand for shared electric cycles in the Indian market?\n",
    "How well those variables describe the electric cycle demands\n",
    "Dataset:\n",
    "\n",
    "Dataset Link: Rental_bikes_data.csv\n",
    "\n",
    "Column Profiling:\n",
    "\n",
    "datetime: datetime\n",
    "season: season (1: spring, 2: summer, 3: fall, 4: winter)\n",
    "holiday: whether day is a holiday or not (extracted from http://dchr.dc.gov/page/holiday-schedule)\n",
    "workingday: if day is neither weekend nor holiday is 1, otherwise is 0.\n",
    "weather:\n",
    "1: Clear, Few clouds, partly cloudy, partly cloudy\n",
    "2: Mist + Cloudy, Mist + Broken clouds, Mist + Few clouds, Mist\n",
    "3: Light Snow, Light Rain + Thunderstorm + Scattered clouds, Light Rain + Scattered clouds\n",
    "4: Heavy Rain + Ice Pallets + Thunderstorm + Mist, Snow + Fog\n",
    "temp: temperature in Celsius\n",
    "atemp: feeling temperature in Celsius\n",
    "humidity: humidity\n",
    "windspeed: wind speed\n",
    "casual: count of casual users\n",
    "registered: count of registered users\n",
    "count: count of total rental bikes including both casual and registered\n",
    "Concept Used:\n",
    "\n",
    "Bi-Variate Analysis\n",
    "2-sample t-test: testing for difference across populations\n",
    "ANNOVA\n",
    "Chi-square\n",
    "How to begin:\n",
    "\n",
    "Import the dataset and do usual exploratory data analysis steps like checking the structure & characteristics of the dataset\n",
    "Try establishing a relation between the dependent and independent variable (Dependent “Count” & Independent: Workingday, Weather, Season etc)\n",
    "Select an appropriate test to check whether:\n",
    "Working Day has effect on number of electric cycles rented\n",
    "No. of cycles rented similar or different in different seasons\n",
    "No. of cycles rented similar or different in different weather\n",
    "Weather is dependent on season (check between 2 predictor variable)\n",
    "Set up Null Hypothesis (H0)\n",
    "State the alternate hypothesis (H1)\n",
    "Check assumptions of the test (Normality, Equal Variance). You can check it using Histogram, Q-Q plot or statistical methods like levene’s test, Shapiro-wilk test (optional)\n",
    "Please continue doing the analysis even If some assumptions fail (levene’s test or Shapiro-wilk test) but double check using visual analysis and report wherever necessary\n",
    "Set a significance level (alpha)\n",
    "Calculate test Statistics.\n",
    "Decision to accept or reject null hypothesis.\n",
    "Inference from the analysis"
   ]
  },
  {
   "cell_type": "code",
   "execution_count": 78,
   "metadata": {
    "id": "nQgHE5ZQ0OWK"
   },
   "outputs": [],
   "source": [
    "import pandas as pd\n",
    "import matplotlib.pyplot as plt\n",
    "import seaborn as sns\n",
    "from scipy.stats import ttest_ind,shapiro,levene,norm,f_oneway,f,kruskal,chi2_contingency"
   ]
  },
  {
   "cell_type": "code",
   "execution_count": 2,
   "metadata": {
    "id": "5JYySTJczD3m"
   },
   "outputs": [],
   "source": [
    "electric_bikes=pd.read_csv(\"https://d2beiqkhq929f0.cloudfront.net/public_assets/assets/000/001/428/original/bike_sharing.csv?1642089089\")"
   ]
  },
  {
   "cell_type": "code",
   "execution_count": 3,
   "metadata": {
    "colab": {
     "base_uri": "https://localhost:8080/",
     "height": 206
    },
    "id": "7UMVDRAk0E7t",
    "outputId": "49d0f914-21c6-471e-884a-c753b49d5809"
   },
   "outputs": [
    {
     "data": {
      "text/html": [
       "\n",
       "  <div id=\"df-e748a8f5-e603-45ad-9777-3a8c0760e465\">\n",
       "    <div class=\"colab-df-container\">\n",
       "      <div>\n",
       "<style scoped>\n",
       "    .dataframe tbody tr th:only-of-type {\n",
       "        vertical-align: middle;\n",
       "    }\n",
       "\n",
       "    .dataframe tbody tr th {\n",
       "        vertical-align: top;\n",
       "    }\n",
       "\n",
       "    .dataframe thead th {\n",
       "        text-align: right;\n",
       "    }\n",
       "</style>\n",
       "<table border=\"1\" class=\"dataframe\">\n",
       "  <thead>\n",
       "    <tr style=\"text-align: right;\">\n",
       "      <th></th>\n",
       "      <th>datetime</th>\n",
       "      <th>season</th>\n",
       "      <th>holiday</th>\n",
       "      <th>workingday</th>\n",
       "      <th>weather</th>\n",
       "      <th>temp</th>\n",
       "      <th>atemp</th>\n",
       "      <th>humidity</th>\n",
       "      <th>windspeed</th>\n",
       "      <th>casual</th>\n",
       "      <th>registered</th>\n",
       "      <th>count</th>\n",
       "    </tr>\n",
       "  </thead>\n",
       "  <tbody>\n",
       "    <tr>\n",
       "      <th>0</th>\n",
       "      <td>2011-01-01 00:00:00</td>\n",
       "      <td>1</td>\n",
       "      <td>0</td>\n",
       "      <td>0</td>\n",
       "      <td>1</td>\n",
       "      <td>9.84</td>\n",
       "      <td>14.395</td>\n",
       "      <td>81</td>\n",
       "      <td>0.0</td>\n",
       "      <td>3</td>\n",
       "      <td>13</td>\n",
       "      <td>16</td>\n",
       "    </tr>\n",
       "    <tr>\n",
       "      <th>1</th>\n",
       "      <td>2011-01-01 01:00:00</td>\n",
       "      <td>1</td>\n",
       "      <td>0</td>\n",
       "      <td>0</td>\n",
       "      <td>1</td>\n",
       "      <td>9.02</td>\n",
       "      <td>13.635</td>\n",
       "      <td>80</td>\n",
       "      <td>0.0</td>\n",
       "      <td>8</td>\n",
       "      <td>32</td>\n",
       "      <td>40</td>\n",
       "    </tr>\n",
       "    <tr>\n",
       "      <th>2</th>\n",
       "      <td>2011-01-01 02:00:00</td>\n",
       "      <td>1</td>\n",
       "      <td>0</td>\n",
       "      <td>0</td>\n",
       "      <td>1</td>\n",
       "      <td>9.02</td>\n",
       "      <td>13.635</td>\n",
       "      <td>80</td>\n",
       "      <td>0.0</td>\n",
       "      <td>5</td>\n",
       "      <td>27</td>\n",
       "      <td>32</td>\n",
       "    </tr>\n",
       "    <tr>\n",
       "      <th>3</th>\n",
       "      <td>2011-01-01 03:00:00</td>\n",
       "      <td>1</td>\n",
       "      <td>0</td>\n",
       "      <td>0</td>\n",
       "      <td>1</td>\n",
       "      <td>9.84</td>\n",
       "      <td>14.395</td>\n",
       "      <td>75</td>\n",
       "      <td>0.0</td>\n",
       "      <td>3</td>\n",
       "      <td>10</td>\n",
       "      <td>13</td>\n",
       "    </tr>\n",
       "    <tr>\n",
       "      <th>4</th>\n",
       "      <td>2011-01-01 04:00:00</td>\n",
       "      <td>1</td>\n",
       "      <td>0</td>\n",
       "      <td>0</td>\n",
       "      <td>1</td>\n",
       "      <td>9.84</td>\n",
       "      <td>14.395</td>\n",
       "      <td>75</td>\n",
       "      <td>0.0</td>\n",
       "      <td>0</td>\n",
       "      <td>1</td>\n",
       "      <td>1</td>\n",
       "    </tr>\n",
       "  </tbody>\n",
       "</table>\n",
       "</div>\n",
       "      <button class=\"colab-df-convert\" onclick=\"convertToInteractive('df-e748a8f5-e603-45ad-9777-3a8c0760e465')\"\n",
       "              title=\"Convert this dataframe to an interactive table.\"\n",
       "              style=\"display:none;\">\n",
       "        \n",
       "  <svg xmlns=\"http://www.w3.org/2000/svg\" height=\"24px\"viewBox=\"0 0 24 24\"\n",
       "       width=\"24px\">\n",
       "    <path d=\"M0 0h24v24H0V0z\" fill=\"none\"/>\n",
       "    <path d=\"M18.56 5.44l.94 2.06.94-2.06 2.06-.94-2.06-.94-.94-2.06-.94 2.06-2.06.94zm-11 1L8.5 8.5l.94-2.06 2.06-.94-2.06-.94L8.5 2.5l-.94 2.06-2.06.94zm10 10l.94 2.06.94-2.06 2.06-.94-2.06-.94-.94-2.06-.94 2.06-2.06.94z\"/><path d=\"M17.41 7.96l-1.37-1.37c-.4-.4-.92-.59-1.43-.59-.52 0-1.04.2-1.43.59L10.3 9.45l-7.72 7.72c-.78.78-.78 2.05 0 2.83L4 21.41c.39.39.9.59 1.41.59.51 0 1.02-.2 1.41-.59l7.78-7.78 2.81-2.81c.8-.78.8-2.07 0-2.86zM5.41 20L4 18.59l7.72-7.72 1.47 1.35L5.41 20z\"/>\n",
       "  </svg>\n",
       "      </button>\n",
       "      \n",
       "  <style>\n",
       "    .colab-df-container {\n",
       "      display:flex;\n",
       "      flex-wrap:wrap;\n",
       "      gap: 12px;\n",
       "    }\n",
       "\n",
       "    .colab-df-convert {\n",
       "      background-color: #E8F0FE;\n",
       "      border: none;\n",
       "      border-radius: 50%;\n",
       "      cursor: pointer;\n",
       "      display: none;\n",
       "      fill: #1967D2;\n",
       "      height: 32px;\n",
       "      padding: 0 0 0 0;\n",
       "      width: 32px;\n",
       "    }\n",
       "\n",
       "    .colab-df-convert:hover {\n",
       "      background-color: #E2EBFA;\n",
       "      box-shadow: 0px 1px 2px rgba(60, 64, 67, 0.3), 0px 1px 3px 1px rgba(60, 64, 67, 0.15);\n",
       "      fill: #174EA6;\n",
       "    }\n",
       "\n",
       "    [theme=dark] .colab-df-convert {\n",
       "      background-color: #3B4455;\n",
       "      fill: #D2E3FC;\n",
       "    }\n",
       "\n",
       "    [theme=dark] .colab-df-convert:hover {\n",
       "      background-color: #434B5C;\n",
       "      box-shadow: 0px 1px 3px 1px rgba(0, 0, 0, 0.15);\n",
       "      filter: drop-shadow(0px 1px 2px rgba(0, 0, 0, 0.3));\n",
       "      fill: #FFFFFF;\n",
       "    }\n",
       "  </style>\n",
       "\n",
       "      <script>\n",
       "        const buttonEl =\n",
       "          document.querySelector('#df-e748a8f5-e603-45ad-9777-3a8c0760e465 button.colab-df-convert');\n",
       "        buttonEl.style.display =\n",
       "          google.colab.kernel.accessAllowed ? 'block' : 'none';\n",
       "\n",
       "        async function convertToInteractive(key) {\n",
       "          const element = document.querySelector('#df-e748a8f5-e603-45ad-9777-3a8c0760e465');\n",
       "          const dataTable =\n",
       "            await google.colab.kernel.invokeFunction('convertToInteractive',\n",
       "                                                     [key], {});\n",
       "          if (!dataTable) return;\n",
       "\n",
       "          const docLinkHtml = 'Like what you see? Visit the ' +\n",
       "            '<a target=\"_blank\" href=https://colab.research.google.com/notebooks/data_table.ipynb>data table notebook</a>'\n",
       "            + ' to learn more about interactive tables.';\n",
       "          element.innerHTML = '';\n",
       "          dataTable['output_type'] = 'display_data';\n",
       "          await google.colab.output.renderOutput(dataTable, element);\n",
       "          const docLink = document.createElement('div');\n",
       "          docLink.innerHTML = docLinkHtml;\n",
       "          element.appendChild(docLink);\n",
       "        }\n",
       "      </script>\n",
       "    </div>\n",
       "  </div>\n",
       "  "
      ],
      "text/plain": [
       "              datetime  season  holiday  workingday  weather  temp   atemp  \\\n",
       "0  2011-01-01 00:00:00       1        0           0        1  9.84  14.395   \n",
       "1  2011-01-01 01:00:00       1        0           0        1  9.02  13.635   \n",
       "2  2011-01-01 02:00:00       1        0           0        1  9.02  13.635   \n",
       "3  2011-01-01 03:00:00       1        0           0        1  9.84  14.395   \n",
       "4  2011-01-01 04:00:00       1        0           0        1  9.84  14.395   \n",
       "\n",
       "   humidity  windspeed  casual  registered  count  \n",
       "0        81        0.0       3          13     16  \n",
       "1        80        0.0       8          32     40  \n",
       "2        80        0.0       5          27     32  \n",
       "3        75        0.0       3          10     13  \n",
       "4        75        0.0       0           1      1  "
      ]
     },
     "execution_count": 3,
     "metadata": {},
     "output_type": "execute_result"
    }
   ],
   "source": [
    "#have a look at dataset\n",
    "electric_bikes.head()"
   ]
  },
  {
   "cell_type": "code",
   "execution_count": 4,
   "metadata": {
    "colab": {
     "base_uri": "https://localhost:8080/"
    },
    "id": "Sif6gVE20cVN",
    "outputId": "f2d609f9-2f3e-4438-c601-6d7d76292efe"
   },
   "outputs": [
    {
     "name": "stdout",
     "output_type": "stream",
     "text": [
      "<class 'pandas.core.frame.DataFrame'>\n",
      "RangeIndex: 10886 entries, 0 to 10885\n",
      "Data columns (total 12 columns):\n",
      " #   Column      Non-Null Count  Dtype  \n",
      "---  ------      --------------  -----  \n",
      " 0   datetime    10886 non-null  object \n",
      " 1   season      10886 non-null  int64  \n",
      " 2   holiday     10886 non-null  int64  \n",
      " 3   workingday  10886 non-null  int64  \n",
      " 4   weather     10886 non-null  int64  \n",
      " 5   temp        10886 non-null  float64\n",
      " 6   atemp       10886 non-null  float64\n",
      " 7   humidity    10886 non-null  int64  \n",
      " 8   windspeed   10886 non-null  float64\n",
      " 9   casual      10886 non-null  int64  \n",
      " 10  registered  10886 non-null  int64  \n",
      " 11  count       10886 non-null  int64  \n",
      "dtypes: float64(3), int64(8), object(1)\n",
      "memory usage: 1020.7+ KB\n"
     ]
    }
   ],
   "source": [
    "# chech data shape, data types, null/missing values of each attribute\n",
    "electric_bikes.info()\n",
    "\n",
    "#data shape: 10866 rows, 12 columns\n",
    "#no missing values and null entries\n",
    "# data types are correct, only datetime will be converted from object to datetime later for usage"
   ]
  },
  {
   "cell_type": "code",
   "execution_count": 5,
   "metadata": {
    "colab": {
     "base_uri": "https://localhost:8080/",
     "height": 967
    },
    "id": "xp-_UzE40vMC",
    "outputId": "83f66b59-7b40-488a-ae1c-f215da2b7627"
   },
   "outputs": [
    {
     "data": {
      "image/png": "[encoded data removed]",
      "text/plain": [
       "<Figure size 1800x1200 with 4 Axes>"
      ]
     },
     "metadata": {},
     "output_type": "display_data"
    }
   ],
   "source": [
    "# Univariate Analysis\n",
    "# Distribution plots of all continuous variables\n",
    "\n",
    "continuous_data = ['temp','atemp','humidity','windspeed']\n",
    "fig, axs = plt.subplots(nrows=2, ncols=2, figsize=(18, 12))\n",
    "sns.histplot(data=electric_bikes, x='temp', ax=axs[0,0],kde=True)\n",
    "sns.histplot(data=electric_bikes, x='atemp', ax=axs[0,1],kde=True)\n",
    "sns.histplot(data=electric_bikes, x='humidity', ax=axs[1,0],kde=True)\n",
    "sns.histplot(data=electric_bikes, x='windspeed', ax=axs[1,1],kde=True)\n",
    "\n",
    "plt.show()\n"
   ]
  },
  {
   "cell_type": "markdown",
   "metadata": {
    "id": "sPHkmw174EWf"
   },
   "source": [
    "Observations\n",
    "1. We see that temp and atemp which are temperature attributes are have range between 0-40 degree celcius and seem to have normal distribution\n",
    "2. humidity has range between 0-100 and seems to be left tailed\n",
    "3. windspeed has range 0-50 and is right tailed distribution"
   ]
  },
  {
   "cell_type": "code",
   "execution_count": 6,
   "metadata": {
    "colab": {
     "base_uri": "https://localhost:8080/",
     "height": 542
    },
    "id": "mmBFt3f93BEg",
    "outputId": "0a872b89-a4df-4d75-fca8-30a925ee4327"
   },
   "outputs": [
    {
     "data": {
      "image/png": "[encoded data removed]",
      "text/plain": [
       "<Figure size 1200x600 with 2 Axes>"
      ]
     },
     "metadata": {},
     "output_type": "display_data"
    }
   ],
   "source": [
    "# Univariate Analysis\n",
    "# Distribution plots of all categorical variables\n",
    "\n",
    "categorical_data = ['season','weather','holiday','workingday']\n",
    "fig, axs = plt.subplots(nrows=1, ncols=2, figsize=(12, 6))\n",
    "sns.countplot(data=electric_bikes,ax=axs[0],x='season')\n",
    "sns.countplot(data=electric_bikes, ax=axs[1],x='weather')\n",
    "\n",
    "plt.show()\n"
   ]
  },
  {
   "cell_type": "markdown",
   "metadata": {
    "id": "aF9DWXtm7Flc"
   },
   "source": [
    "Observations:\n",
    "\n",
    "1. we see that four seasons are equally distributed across year.\n",
    "2. weather is mostly clear, followed by some days in mist (2) and few day having light snow/rain(3). There are 0 days of heavy rain"
   ]
  },
  {
   "cell_type": "markdown",
   "metadata": {
    "id": "tkUEVLrX-QqI"
   },
   "source": [
    "weather:\n",
    "1: Clear, Few clouds, partly cloudy, partly cloudy\n",
    "\n",
    "2: Mist + Cloudy, Mist + Broken clouds, Mist + Few clouds, Mist\n",
    "\n",
    "3: Light Snow, Light Rain + Thunderstorm + Scattered clouds, Light Rain + Scattered clouds\n",
    "\n",
    "4: Heavy Rain + Ice Pallets + Thunderstorm + Mist, Snow + Fog\n",
    "\n",
    "season: season (1: spring, 2: summer, 3: fall, 4: winter)"
   ]
  },
  {
   "cell_type": "code",
   "execution_count": 7,
   "metadata": {
    "colab": {
     "base_uri": "https://localhost:8080/",
     "height": 457
    },
    "id": "0PIYIyL-5_rs",
    "outputId": "bda5ffcd-3b48-4cb1-9b68-fddf319d9f4c"
   },
   "outputs": [
    {
     "data": {
      "text/html": [
       "\n",
       "  <div id=\"df-84e1a518-796a-4a1f-9487-fd4872fd0b44\">\n",
       "    <div class=\"colab-df-container\">\n",
       "      <div>\n",
       "<style scoped>\n",
       "    .dataframe tbody tr th:only-of-type {\n",
       "        vertical-align: middle;\n",
       "    }\n",
       "\n",
       "    .dataframe tbody tr th {\n",
       "        vertical-align: top;\n",
       "    }\n",
       "\n",
       "    .dataframe thead th {\n",
       "        text-align: right;\n",
       "    }\n",
       "</style>\n",
       "<table border=\"1\" class=\"dataframe\">\n",
       "  <thead>\n",
       "    <tr style=\"text-align: right;\">\n",
       "      <th></th>\n",
       "      <th></th>\n",
       "      <th>value</th>\n",
       "    </tr>\n",
       "    <tr>\n",
       "      <th>variable</th>\n",
       "      <th>value</th>\n",
       "      <th></th>\n",
       "    </tr>\n",
       "  </thead>\n",
       "  <tbody>\n",
       "    <tr>\n",
       "      <th rowspan=\"2\" valign=\"top\">holiday</th>\n",
       "      <th>0</th>\n",
       "      <td>10575</td>\n",
       "    </tr>\n",
       "    <tr>\n",
       "      <th>1</th>\n",
       "      <td>311</td>\n",
       "    </tr>\n",
       "    <tr>\n",
       "      <th rowspan=\"4\" valign=\"top\">season</th>\n",
       "      <th>1</th>\n",
       "      <td>2686</td>\n",
       "    </tr>\n",
       "    <tr>\n",
       "      <th>2</th>\n",
       "      <td>2733</td>\n",
       "    </tr>\n",
       "    <tr>\n",
       "      <th>3</th>\n",
       "      <td>2733</td>\n",
       "    </tr>\n",
       "    <tr>\n",
       "      <th>4</th>\n",
       "      <td>2734</td>\n",
       "    </tr>\n",
       "    <tr>\n",
       "      <th rowspan=\"4\" valign=\"top\">weather</th>\n",
       "      <th>1</th>\n",
       "      <td>7192</td>\n",
       "    </tr>\n",
       "    <tr>\n",
       "      <th>2</th>\n",
       "      <td>2834</td>\n",
       "    </tr>\n",
       "    <tr>\n",
       "      <th>3</th>\n",
       "      <td>859</td>\n",
       "    </tr>\n",
       "    <tr>\n",
       "      <th>4</th>\n",
       "      <td>1</td>\n",
       "    </tr>\n",
       "    <tr>\n",
       "      <th rowspan=\"2\" valign=\"top\">workingday</th>\n",
       "      <th>0</th>\n",
       "      <td>3474</td>\n",
       "    </tr>\n",
       "    <tr>\n",
       "      <th>1</th>\n",
       "      <td>7412</td>\n",
       "    </tr>\n",
       "  </tbody>\n",
       "</table>\n",
       "</div>\n",
       "      <button class=\"colab-df-convert\" onclick=\"convertToInteractive('df-84e1a518-796a-4a1f-9487-fd4872fd0b44')\"\n",
       "              title=\"Convert this dataframe to an interactive table.\"\n",
       "              style=\"display:none;\">\n",
       "        \n",
       "  <svg xmlns=\"http://www.w3.org/2000/svg\" height=\"24px\"viewBox=\"0 0 24 24\"\n",
       "       width=\"24px\">\n",
       "    <path d=\"M0 0h24v24H0V0z\" fill=\"none\"/>\n",
       "    <path d=\"M18.56 5.44l.94 2.06.94-2.06 2.06-.94-2.06-.94-.94-2.06-.94 2.06-2.06.94zm-11 1L8.5 8.5l.94-2.06 2.06-.94-2.06-.94L8.5 2.5l-.94 2.06-2.06.94zm10 10l.94 2.06.94-2.06 2.06-.94-2.06-.94-.94-2.06-.94 2.06-2.06.94z\"/><path d=\"M17.41 7.96l-1.37-1.37c-.4-.4-.92-.59-1.43-.59-.52 0-1.04.2-1.43.59L10.3 9.45l-7.72 7.72c-.78.78-.78 2.05 0 2.83L4 21.41c.39.39.9.59 1.41.59.51 0 1.02-.2 1.41-.59l7.78-7.78 2.81-2.81c.8-.78.8-2.07 0-2.86zM5.41 20L4 18.59l7.72-7.72 1.47 1.35L5.41 20z\"/>\n",
       "  </svg>\n",
       "      </button>\n",
       "      \n",
       "  <style>\n",
       "    .colab-df-container {\n",
       "      display:flex;\n",
       "      flex-wrap:wrap;\n",
       "      gap: 12px;\n",
       "    }\n",
       "\n",
       "    .colab-df-convert {\n",
       "      background-color: #E8F0FE;\n",
       "      border: none;\n",
       "      border-radius: 50%;\n",
       "      cursor: pointer;\n",
       "      display: none;\n",
       "      fill: #1967D2;\n",
       "      height: 32px;\n",
       "      padding: 0 0 0 0;\n",
       "      width: 32px;\n",
       "    }\n",
       "\n",
       "    .colab-df-convert:hover {\n",
       "      background-color: #E2EBFA;\n",
       "      box-shadow: 0px 1px 2px rgba(60, 64, 67, 0.3), 0px 1px 3px 1px rgba(60, 64, 67, 0.15);\n",
       "      fill: #174EA6;\n",
       "    }\n",
       "\n",
       "    [theme=dark] .colab-df-convert {\n",
       "      background-color: #3B4455;\n",
       "      fill: #D2E3FC;\n",
       "    }\n",
       "\n",
       "    [theme=dark] .colab-df-convert:hover {\n",
       "      background-color: #434B5C;\n",
       "      box-shadow: 0px 1px 3px 1px rgba(0, 0, 0, 0.15);\n",
       "      filter: drop-shadow(0px 1px 2px rgba(0, 0, 0, 0.3));\n",
       "      fill: #FFFFFF;\n",
       "    }\n",
       "  </style>\n",
       "\n",
       "      <script>\n",
       "        const buttonEl =\n",
       "          document.querySelector('#df-84e1a518-796a-4a1f-9487-fd4872fd0b44 button.colab-df-convert');\n",
       "        buttonEl.style.display =\n",
       "          google.colab.kernel.accessAllowed ? 'block' : 'none';\n",
       "\n",
       "        async function convertToInteractive(key) {\n",
       "          const element = document.querySelector('#df-84e1a518-796a-4a1f-9487-fd4872fd0b44');\n",
       "          const dataTable =\n",
       "            await google.colab.kernel.invokeFunction('convertToInteractive',\n",
       "                                                     [key], {});\n",
       "          if (!dataTable) return;\n",
       "\n",
       "          const docLinkHtml = 'Like what you see? Visit the ' +\n",
       "            '<a target=\"_blank\" href=https://colab.research.google.com/notebooks/data_table.ipynb>data table notebook</a>'\n",
       "            + ' to learn more about interactive tables.';\n",
       "          element.innerHTML = '';\n",
       "          dataTable['output_type'] = 'display_data';\n",
       "          await google.colab.output.renderOutput(dataTable, element);\n",
       "          const docLink = document.createElement('div');\n",
       "          docLink.innerHTML = docLinkHtml;\n",
       "          element.appendChild(docLink);\n",
       "        }\n",
       "      </script>\n",
       "    </div>\n",
       "  </div>\n",
       "  "
      ],
      "text/plain": [
       "                  value\n",
       "variable   value       \n",
       "holiday    0      10575\n",
       "           1        311\n",
       "season     1       2686\n",
       "           2       2733\n",
       "           3       2733\n",
       "           4       2734\n",
       "weather    1       7192\n",
       "           2       2834\n",
       "           3        859\n",
       "           4          1\n",
       "workingday 0       3474\n",
       "           1       7412"
      ]
     },
     "execution_count": 7,
     "metadata": {},
     "output_type": "execute_result"
    }
   ],
   "source": [
    "electric_bikes[categorical_data].melt().groupby(['variable','value'])[['value']].count()\n",
    "\n",
    "# There are 311 holidays, 7412 working days\n",
    "# we can see the unique value counts of weather and season, only 1 data point is available for weather 4"
   ]
  },
  {
   "cell_type": "code",
   "execution_count": 8,
   "metadata": {
    "colab": {
     "base_uri": "https://localhost:8080/",
     "height": 112
    },
    "id": "3d9KMAhw8CO1",
    "outputId": "5ce2b83f-db1d-4eab-855c-3e4b97b81d06"
   },
   "outputs": [
    {
     "data": {
      "text/html": [
       "\n",
       "  <div id=\"df-f5fabdda-17cd-436d-8847-7d49621cb118\">\n",
       "    <div class=\"colab-df-container\">\n",
       "      <div>\n",
       "<style scoped>\n",
       "    .dataframe tbody tr th:only-of-type {\n",
       "        vertical-align: middle;\n",
       "    }\n",
       "\n",
       "    .dataframe tbody tr th {\n",
       "        vertical-align: top;\n",
       "    }\n",
       "\n",
       "    .dataframe thead th {\n",
       "        text-align: right;\n",
       "    }\n",
       "</style>\n",
       "<table border=\"1\" class=\"dataframe\">\n",
       "  <thead>\n",
       "    <tr style=\"text-align: right;\">\n",
       "      <th></th>\n",
       "      <th>workingday</th>\n",
       "      <th>count</th>\n",
       "    </tr>\n",
       "  </thead>\n",
       "  <tbody>\n",
       "    <tr>\n",
       "      <th>0</th>\n",
       "      <td>0</td>\n",
       "      <td>654872</td>\n",
       "    </tr>\n",
       "    <tr>\n",
       "      <th>1</th>\n",
       "      <td>1</td>\n",
       "      <td>1430604</td>\n",
       "    </tr>\n",
       "  </tbody>\n",
       "</table>\n",
       "</div>\n",
       "      <button class=\"colab-df-convert\" onclick=\"convertToInteractive('df-f5fabdda-17cd-436d-8847-7d49621cb118')\"\n",
       "              title=\"Convert this dataframe to an interactive table.\"\n",
       "              style=\"display:none;\">\n",
       "        \n",
       "  <svg xmlns=\"http://www.w3.org/2000/svg\" height=\"24px\"viewBox=\"0 0 24 24\"\n",
       "       width=\"24px\">\n",
       "    <path d=\"M0 0h24v24H0V0z\" fill=\"none\"/>\n",
       "    <path d=\"M18.56 5.44l.94 2.06.94-2.06 2.06-.94-2.06-.94-.94-2.06-.94 2.06-2.06.94zm-11 1L8.5 8.5l.94-2.06 2.06-.94-2.06-.94L8.5 2.5l-.94 2.06-2.06.94zm10 10l.94 2.06.94-2.06 2.06-.94-2.06-.94-.94-2.06-.94 2.06-2.06.94z\"/><path d=\"M17.41 7.96l-1.37-1.37c-.4-.4-.92-.59-1.43-.59-.52 0-1.04.2-1.43.59L10.3 9.45l-7.72 7.72c-.78.78-.78 2.05 0 2.83L4 21.41c.39.39.9.59 1.41.59.51 0 1.02-.2 1.41-.59l7.78-7.78 2.81-2.81c.8-.78.8-2.07 0-2.86zM5.41 20L4 18.59l7.72-7.72 1.47 1.35L5.41 20z\"/>\n",
       "  </svg>\n",
       "      </button>\n",
       "      \n",
       "  <style>\n",
       "    .colab-df-container {\n",
       "      display:flex;\n",
       "      flex-wrap:wrap;\n",
       "      gap: 12px;\n",
       "    }\n",
       "\n",
       "    .colab-df-convert {\n",
       "      background-color: #E8F0FE;\n",
       "      border: none;\n",
       "      border-radius: 50%;\n",
       "      cursor: pointer;\n",
       "      display: none;\n",
       "      fill: #1967D2;\n",
       "      height: 32px;\n",
       "      padding: 0 0 0 0;\n",
       "      width: 32px;\n",
       "    }\n",
       "\n",
       "    .colab-df-convert:hover {\n",
       "      background-color: #E2EBFA;\n",
       "      box-shadow: 0px 1px 2px rgba(60, 64, 67, 0.3), 0px 1px 3px 1px rgba(60, 64, 67, 0.15);\n",
       "      fill: #174EA6;\n",
       "    }\n",
       "\n",
       "    [theme=dark] .colab-df-convert {\n",
       "      background-color: #3B4455;\n",
       "      fill: #D2E3FC;\n",
       "    }\n",
       "\n",
       "    [theme=dark] .colab-df-convert:hover {\n",
       "      background-color: #434B5C;\n",
       "      box-shadow: 0px 1px 3px 1px rgba(0, 0, 0, 0.15);\n",
       "      filter: drop-shadow(0px 1px 2px rgba(0, 0, 0, 0.3));\n",
       "      fill: #FFFFFF;\n",
       "    }\n",
       "  </style>\n",
       "\n",
       "      <script>\n",
       "        const buttonEl =\n",
       "          document.querySelector('#df-f5fabdda-17cd-436d-8847-7d49621cb118 button.colab-df-convert');\n",
       "        buttonEl.style.display =\n",
       "          google.colab.kernel.accessAllowed ? 'block' : 'none';\n",
       "\n",
       "        async function convertToInteractive(key) {\n",
       "          const element = document.querySelector('#df-f5fabdda-17cd-436d-8847-7d49621cb118');\n",
       "          const dataTable =\n",
       "            await google.colab.kernel.invokeFunction('convertToInteractive',\n",
       "                                                     [key], {});\n",
       "          if (!dataTable) return;\n",
       "\n",
       "          const docLinkHtml = 'Like what you see? Visit the ' +\n",
       "            '<a target=\"_blank\" href=https://colab.research.google.com/notebooks/data_table.ipynb>data table notebook</a>'\n",
       "            + ' to learn more about interactive tables.';\n",
       "          element.innerHTML = '';\n",
       "          dataTable['output_type'] = 'display_data';\n",
       "          await google.colab.output.renderOutput(dataTable, element);\n",
       "          const docLink = document.createElement('div');\n",
       "          docLink.innerHTML = docLinkHtml;\n",
       "          element.appendChild(docLink);\n",
       "        }\n",
       "      </script>\n",
       "    </div>\n",
       "  </div>\n",
       "  "
      ],
      "text/plain": [
       "   workingday    count\n",
       "0           0   654872\n",
       "1           1  1430604"
      ]
     },
     "execution_count": 8,
     "metadata": {},
     "output_type": "execute_result"
    }
   ],
   "source": [
    "electric_bikes.groupby(['workingday'])[['count']].sum().reset_index()"
   ]
  },
  {
   "cell_type": "code",
   "execution_count": 9,
   "metadata": {
    "colab": {
     "base_uri": "https://localhost:8080/",
     "height": 555
    },
    "id": "ZDbKE_ij-z2P",
    "outputId": "2a0378d3-5521-4b9b-c6a7-6f2d2c287bea"
   },
   "outputs": [
    {
     "data": {
      "text/plain": [
       "<Axes: xlabel='weather', ylabel='count'>"
      ]
     },
     "execution_count": 9,
     "metadata": {},
     "output_type": "execute_result"
    },
    {
     "data": {
      "image/png": "[encoded data removed]",
      "text/plain": [
       "<Figure size 1800x600 with 3 Axes>"
      ]
     },
     "metadata": {},
     "output_type": "display_data"
    }
   ],
   "source": [
    "# Bivariate Analysis\n",
    "\n",
    "fig, axs = plt.subplots(nrows=1, ncols=3, figsize=(18, 6))\n",
    "sns.barplot(data=electric_bikes.groupby(['workingday'])[['count']].sum().reset_index(),y='count',x='workingday',ax=axs[0])\n",
    "sns.barplot(data=electric_bikes.groupby(['season'])[['count']].sum().reset_index(),x='season',y='count',ax=axs[1])\n",
    "sns.barplot(data=electric_bikes.groupby(['weather'])[['count']].sum().reset_index(),x='weather',y='count',ax=axs[2])"
   ]
  },
  {
   "cell_type": "markdown",
   "metadata": {
    "id": "PBjHwgsmEa_x"
   },
   "source": [
    "Observations\n",
    "\n",
    "1. The total number of rides taken on working days are more than non working days\n",
    "2. lesser number of rides are taken in 1.spring season, in other seasons it is almost similar\n",
    "3. lesser number of rides are taken in weather 3, maximum rides are taken in weather 1 clear sky"
   ]
  },
  {
   "cell_type": "code",
   "execution_count": 10,
   "metadata": {
    "colab": {
     "base_uri": "https://localhost:8080/",
     "height": 394
    },
    "id": "TiHsUh_TMDhR",
    "outputId": "45fc39bf-7df1-40a5-da3d-933a7039e0ca"
   },
   "outputs": [
    {
     "data": {
      "text/html": [
       "\n",
       "  <div id=\"df-b1aeb16b-47cc-406b-8af1-422301479282\">\n",
       "    <div class=\"colab-df-container\">\n",
       "      <div>\n",
       "<style scoped>\n",
       "    .dataframe tbody tr th:only-of-type {\n",
       "        vertical-align: middle;\n",
       "    }\n",
       "\n",
       "    .dataframe tbody tr th {\n",
       "        vertical-align: top;\n",
       "    }\n",
       "\n",
       "    .dataframe thead th {\n",
       "        text-align: right;\n",
       "    }\n",
       "</style>\n",
       "<table border=\"1\" class=\"dataframe\">\n",
       "  <thead>\n",
       "    <tr style=\"text-align: right;\">\n",
       "      <th></th>\n",
       "      <th>datetime</th>\n",
       "      <th>season</th>\n",
       "      <th>holiday</th>\n",
       "      <th>workingday</th>\n",
       "      <th>weather</th>\n",
       "      <th>temp</th>\n",
       "      <th>atemp</th>\n",
       "      <th>humidity</th>\n",
       "      <th>windspeed</th>\n",
       "      <th>casual</th>\n",
       "      <th>registered</th>\n",
       "      <th>count</th>\n",
       "    </tr>\n",
       "  </thead>\n",
       "  <tbody>\n",
       "    <tr>\n",
       "      <th>count</th>\n",
       "      <td>10886</td>\n",
       "      <td>10886.0</td>\n",
       "      <td>10886.0</td>\n",
       "      <td>10886.0</td>\n",
       "      <td>10886.0</td>\n",
       "      <td>10886.00000</td>\n",
       "      <td>10886.000000</td>\n",
       "      <td>10886.000000</td>\n",
       "      <td>10886.000000</td>\n",
       "      <td>10886.000000</td>\n",
       "      <td>10886.000000</td>\n",
       "      <td>10886.000000</td>\n",
       "    </tr>\n",
       "    <tr>\n",
       "      <th>unique</th>\n",
       "      <td>10886</td>\n",
       "      <td>4.0</td>\n",
       "      <td>2.0</td>\n",
       "      <td>2.0</td>\n",
       "      <td>4.0</td>\n",
       "      <td>NaN</td>\n",
       "      <td>NaN</td>\n",
       "      <td>NaN</td>\n",
       "      <td>NaN</td>\n",
       "      <td>NaN</td>\n",
       "      <td>NaN</td>\n",
       "      <td>NaN</td>\n",
       "    </tr>\n",
       "    <tr>\n",
       "      <th>top</th>\n",
       "      <td>2011-01-01 00:00:00</td>\n",
       "      <td>4.0</td>\n",
       "      <td>0.0</td>\n",
       "      <td>1.0</td>\n",
       "      <td>1.0</td>\n",
       "      <td>NaN</td>\n",
       "      <td>NaN</td>\n",
       "      <td>NaN</td>\n",
       "      <td>NaN</td>\n",
       "      <td>NaN</td>\n",
       "      <td>NaN</td>\n",
       "      <td>NaN</td>\n",
       "    </tr>\n",
       "    <tr>\n",
       "      <th>freq</th>\n",
       "      <td>1</td>\n",
       "      <td>2734.0</td>\n",
       "      <td>10575.0</td>\n",
       "      <td>7412.0</td>\n",
       "      <td>7192.0</td>\n",
       "      <td>NaN</td>\n",
       "      <td>NaN</td>\n",
       "      <td>NaN</td>\n",
       "      <td>NaN</td>\n",
       "      <td>NaN</td>\n",
       "      <td>NaN</td>\n",
       "      <td>NaN</td>\n",
       "    </tr>\n",
       "    <tr>\n",
       "      <th>mean</th>\n",
       "      <td>NaN</td>\n",
       "      <td>NaN</td>\n",
       "      <td>NaN</td>\n",
       "      <td>NaN</td>\n",
       "      <td>NaN</td>\n",
       "      <td>20.23086</td>\n",
       "      <td>23.655084</td>\n",
       "      <td>61.886460</td>\n",
       "      <td>12.799395</td>\n",
       "      <td>36.021955</td>\n",
       "      <td>155.552177</td>\n",
       "      <td>191.574132</td>\n",
       "    </tr>\n",
       "    <tr>\n",
       "      <th>std</th>\n",
       "      <td>NaN</td>\n",
       "      <td>NaN</td>\n",
       "      <td>NaN</td>\n",
       "      <td>NaN</td>\n",
       "      <td>NaN</td>\n",
       "      <td>7.79159</td>\n",
       "      <td>8.474601</td>\n",
       "      <td>19.245033</td>\n",
       "      <td>8.164537</td>\n",
       "      <td>49.960477</td>\n",
       "      <td>151.039033</td>\n",
       "      <td>181.144454</td>\n",
       "    </tr>\n",
       "    <tr>\n",
       "      <th>min</th>\n",
       "      <td>NaN</td>\n",
       "      <td>NaN</td>\n",
       "      <td>NaN</td>\n",
       "      <td>NaN</td>\n",
       "      <td>NaN</td>\n",
       "      <td>0.82000</td>\n",
       "      <td>0.760000</td>\n",
       "      <td>0.000000</td>\n",
       "      <td>0.000000</td>\n",
       "      <td>0.000000</td>\n",
       "      <td>0.000000</td>\n",
       "      <td>1.000000</td>\n",
       "    </tr>\n",
       "    <tr>\n",
       "      <th>25%</th>\n",
       "      <td>NaN</td>\n",
       "      <td>NaN</td>\n",
       "      <td>NaN</td>\n",
       "      <td>NaN</td>\n",
       "      <td>NaN</td>\n",
       "      <td>13.94000</td>\n",
       "      <td>16.665000</td>\n",
       "      <td>47.000000</td>\n",
       "      <td>7.001500</td>\n",
       "      <td>4.000000</td>\n",
       "      <td>36.000000</td>\n",
       "      <td>42.000000</td>\n",
       "    </tr>\n",
       "    <tr>\n",
       "      <th>50%</th>\n",
       "      <td>NaN</td>\n",
       "      <td>NaN</td>\n",
       "      <td>NaN</td>\n",
       "      <td>NaN</td>\n",
       "      <td>NaN</td>\n",
       "      <td>20.50000</td>\n",
       "      <td>24.240000</td>\n",
       "      <td>62.000000</td>\n",
       "      <td>12.998000</td>\n",
       "      <td>17.000000</td>\n",
       "      <td>118.000000</td>\n",
       "      <td>145.000000</td>\n",
       "    </tr>\n",
       "    <tr>\n",
       "      <th>75%</th>\n",
       "      <td>NaN</td>\n",
       "      <td>NaN</td>\n",
       "      <td>NaN</td>\n",
       "      <td>NaN</td>\n",
       "      <td>NaN</td>\n",
       "      <td>26.24000</td>\n",
       "      <td>31.060000</td>\n",
       "      <td>77.000000</td>\n",
       "      <td>16.997900</td>\n",
       "      <td>49.000000</td>\n",
       "      <td>222.000000</td>\n",
       "      <td>284.000000</td>\n",
       "    </tr>\n",
       "    <tr>\n",
       "      <th>max</th>\n",
       "      <td>NaN</td>\n",
       "      <td>NaN</td>\n",
       "      <td>NaN</td>\n",
       "      <td>NaN</td>\n",
       "      <td>NaN</td>\n",
       "      <td>41.00000</td>\n",
       "      <td>45.455000</td>\n",
       "      <td>100.000000</td>\n",
       "      <td>56.996900</td>\n",
       "      <td>367.000000</td>\n",
       "      <td>886.000000</td>\n",
       "      <td>977.000000</td>\n",
       "    </tr>\n",
       "  </tbody>\n",
       "</table>\n",
       "</div>\n",
       "      <button class=\"colab-df-convert\" onclick=\"convertToInteractive('df-b1aeb16b-47cc-406b-8af1-422301479282')\"\n",
       "              title=\"Convert this dataframe to an interactive table.\"\n",
       "              style=\"display:none;\">\n",
       "        \n",
       "  <svg xmlns=\"http://www.w3.org/2000/svg\" height=\"24px\"viewBox=\"0 0 24 24\"\n",
       "       width=\"24px\">\n",
       "    <path d=\"M0 0h24v24H0V0z\" fill=\"none\"/>\n",
       "    <path d=\"M18.56 5.44l.94 2.06.94-2.06 2.06-.94-2.06-.94-.94-2.06-.94 2.06-2.06.94zm-11 1L8.5 8.5l.94-2.06 2.06-.94-2.06-.94L8.5 2.5l-.94 2.06-2.06.94zm10 10l.94 2.06.94-2.06 2.06-.94-2.06-.94-.94-2.06-.94 2.06-2.06.94z\"/><path d=\"M17.41 7.96l-1.37-1.37c-.4-.4-.92-.59-1.43-.59-.52 0-1.04.2-1.43.59L10.3 9.45l-7.72 7.72c-.78.78-.78 2.05 0 2.83L4 21.41c.39.39.9.59 1.41.59.51 0 1.02-.2 1.41-.59l7.78-7.78 2.81-2.81c.8-.78.8-2.07 0-2.86zM5.41 20L4 18.59l7.72-7.72 1.47 1.35L5.41 20z\"/>\n",
       "  </svg>\n",
       "      </button>\n",
       "      \n",
       "  <style>\n",
       "    .colab-df-container {\n",
       "      display:flex;\n",
       "      flex-wrap:wrap;\n",
       "      gap: 12px;\n",
       "    }\n",
       "\n",
       "    .colab-df-convert {\n",
       "      background-color: #E8F0FE;\n",
       "      border: none;\n",
       "      border-radius: 50%;\n",
       "      cursor: pointer;\n",
       "      display: none;\n",
       "      fill: #1967D2;\n",
       "      height: 32px;\n",
       "      padding: 0 0 0 0;\n",
       "      width: 32px;\n",
       "    }\n",
       "\n",
       "    .colab-df-convert:hover {\n",
       "      background-color: #E2EBFA;\n",
       "      box-shadow: 0px 1px 2px rgba(60, 64, 67, 0.3), 0px 1px 3px 1px rgba(60, 64, 67, 0.15);\n",
       "      fill: #174EA6;\n",
       "    }\n",
       "\n",
       "    [theme=dark] .colab-df-convert {\n",
       "      background-color: #3B4455;\n",
       "      fill: #D2E3FC;\n",
       "    }\n",
       "\n",
       "    [theme=dark] .colab-df-convert:hover {\n",
       "      background-color: #434B5C;\n",
       "      box-shadow: 0px 1px 3px 1px rgba(0, 0, 0, 0.15);\n",
       "      filter: drop-shadow(0px 1px 2px rgba(0, 0, 0, 0.3));\n",
       "      fill: #FFFFFF;\n",
       "    }\n",
       "  </style>\n",
       "\n",
       "      <script>\n",
       "        const buttonEl =\n",
       "          document.querySelector('#df-b1aeb16b-47cc-406b-8af1-422301479282 button.colab-df-convert');\n",
       "        buttonEl.style.display =\n",
       "          google.colab.kernel.accessAllowed ? 'block' : 'none';\n",
       "\n",
       "        async function convertToInteractive(key) {\n",
       "          const element = document.querySelector('#df-b1aeb16b-47cc-406b-8af1-422301479282');\n",
       "          const dataTable =\n",
       "            await google.colab.kernel.invokeFunction('convertToInteractive',\n",
       "                                                     [key], {});\n",
       "          if (!dataTable) return;\n",
       "\n",
       "          const docLinkHtml = 'Like what you see? Visit the ' +\n",
       "            '<a target=\"_blank\" href=https://colab.research.google.com/notebooks/data_table.ipynb>data table notebook</a>'\n",
       "            + ' to learn more about interactive tables.';\n",
       "          element.innerHTML = '';\n",
       "          dataTable['output_type'] = 'display_data';\n",
       "          await google.colab.output.renderOutput(dataTable, element);\n",
       "          const docLink = document.createElement('div');\n",
       "          docLink.innerHTML = docLinkHtml;\n",
       "          element.appendChild(docLink);\n",
       "        }\n",
       "      </script>\n",
       "    </div>\n",
       "  </div>\n",
       "  "
      ],
      "text/plain": [
       "                   datetime   season  holiday  workingday  weather  \\\n",
       "count                 10886  10886.0  10886.0     10886.0  10886.0   \n",
       "unique                10886      4.0      2.0         2.0      4.0   \n",
       "top     2011-01-01 00:00:00      4.0      0.0         1.0      1.0   \n",
       "freq                      1   2734.0  10575.0      7412.0   7192.0   \n",
       "mean                    NaN      NaN      NaN         NaN      NaN   \n",
       "std                     NaN      NaN      NaN         NaN      NaN   \n",
       "min                     NaN      NaN      NaN         NaN      NaN   \n",
       "25%                     NaN      NaN      NaN         NaN      NaN   \n",
       "50%                     NaN      NaN      NaN         NaN      NaN   \n",
       "75%                     NaN      NaN      NaN         NaN      NaN   \n",
       "max                     NaN      NaN      NaN         NaN      NaN   \n",
       "\n",
       "               temp         atemp      humidity     windspeed        casual  \\\n",
       "count   10886.00000  10886.000000  10886.000000  10886.000000  10886.000000   \n",
       "unique          NaN           NaN           NaN           NaN           NaN   \n",
       "top             NaN           NaN           NaN           NaN           NaN   \n",
       "freq            NaN           NaN           NaN           NaN           NaN   \n",
       "mean       20.23086     23.655084     61.886460     12.799395     36.021955   \n",
       "std         7.79159      8.474601     19.245033      8.164537     49.960477   \n",
       "min         0.82000      0.760000      0.000000      0.000000      0.000000   \n",
       "25%        13.94000     16.665000     47.000000      7.001500      4.000000   \n",
       "50%        20.50000     24.240000     62.000000     12.998000     17.000000   \n",
       "75%        26.24000     31.060000     77.000000     16.997900     49.000000   \n",
       "max        41.00000     45.455000    100.000000     56.996900    367.000000   \n",
       "\n",
       "          registered         count  \n",
       "count   10886.000000  10886.000000  \n",
       "unique           NaN           NaN  \n",
       "top              NaN           NaN  \n",
       "freq             NaN           NaN  \n",
       "mean      155.552177    191.574132  \n",
       "std       151.039033    181.144454  \n",
       "min         0.000000      1.000000  \n",
       "25%        36.000000     42.000000  \n",
       "50%       118.000000    145.000000  \n",
       "75%       222.000000    284.000000  \n",
       "max       886.000000    977.000000  "
      ]
     },
     "execution_count": 10,
     "metadata": {},
     "output_type": "execute_result"
    }
   ],
   "source": [
    "# We check range of values, statistics of all attributes using describe function\n",
    "#We convert categorical columns to object datatype to get categorical statistics,\n",
    "\n",
    "electric_bikes[categorical_data]=electric_bikes[categorical_data].astype('object')\n",
    "electric_bikes.describe(include='all')\n",
    "\n",
    "# we see the top category and frequency for season, weather. we see that there is much difference in mean and median values of casual, registered and count rides. \n",
    "#further analysis based on other parameters may be useful to uncover the cause of variation between mean and median"
   ]
  },
  {
   "cell_type": "code",
   "execution_count": 11,
   "metadata": {
    "colab": {
     "base_uri": "https://localhost:8080/",
     "height": 587
    },
    "id": "sJeazUBGNELi",
    "outputId": "a308aa43-1fda-4e30-956e-1eba65446957"
   },
   "outputs": [
    {
     "data": {
      "text/plain": [
       "<Axes: xlabel='workingday', ylabel='count'>"
      ]
     },
     "execution_count": 11,
     "metadata": {},
     "output_type": "execute_result"
    },
    {
     "data": {
      "image/png": "[encoded data removed]",
      "text/plain": [
       "<Figure size 1600x1400 with 3 Axes>"
      ]
     },
     "metadata": {},
     "output_type": "display_data"
    }
   ],
   "source": [
    "# outlier check\n",
    "\n",
    "plt.figure(figsize=(16,14))\n",
    "\n",
    "plt.subplot(2,3,1)\n",
    "sns.boxplot(data=electric_bikes,y='count',x='weather')\n",
    "\n",
    "plt.subplot(2,3,2)\n",
    "sns.boxplot(data=electric_bikes,y='count',x='season')\n",
    "\n",
    "plt.subplot(2,3,3)\n",
    "sns.boxplot(data=electric_bikes,y='count',x='workingday')\n",
    "\n",
    "# outliers are more in weather 3, season 1 and working day"
   ]
  },
  {
   "cell_type": "markdown",
   "metadata": {
    "id": "enoWNoHkNjtT"
   },
   "source": [
    "#Hypothesis testing"
   ]
  },
  {
   "cell_type": "code",
   "execution_count": 12,
   "metadata": {
    "id": "XGd0RiElR1gs"
   },
   "outputs": [],
   "source": [
    "# Ho: electric cycles rented on working and non working days are same (working day does not have any effect on number of cycles rented)\n",
    "# Ha: electric cycles rented on working and non working days are different\n",
    "\n",
    "# we separate 2 samples for working and non working day respectively\n",
    "working=electric_bikes[electric_bikes['workingday']==1]['count']\n",
    "non_working=electric_bikes[electric_bikes['workingday']==0]['count']"
   ]
  },
  {
   "cell_type": "code",
   "execution_count": 13,
   "metadata": {
    "colab": {
     "base_uri": "https://localhost:8080/",
     "height": 587
    },
    "id": "bhxf_nEJO-LY",
    "outputId": "ae0ae4e7-b665-4f35-b5c5-b3c9a1be055b"
   },
   "outputs": [
    {
     "data": {
      "text/plain": [
       "<Axes: xlabel='count', ylabel='Count'>"
      ]
     },
     "execution_count": 13,
     "metadata": {},
     "output_type": "execute_result"
    },
    {
     "data": {
      "image/png": "[encoded data removed]",
      "text/plain": [
       "<Figure size 1600x1400 with 2 Axes>"
      ]
     },
     "metadata": {},
     "output_type": "display_data"
    }
   ],
   "source": [
    "#Normality visual analysis\n",
    "plt.figure(figsize=(16,14))\n",
    "\n",
    "plt.subplot(2,3,1)\n",
    "sns.histplot(working)\n",
    "\n",
    "plt.subplot(2,3,2)\n",
    "sns.histplot(non_working)\n",
    "\n",
    "#from visual analysis we see that this distribution is not normal, we also check the normality using shapiro test"
   ]
  },
  {
   "cell_type": "code",
   "execution_count": 17,
   "metadata": {
    "colab": {
     "base_uri": "https://localhost:8080/"
    },
    "id": "ldJWXgbf1W0V",
    "outputId": "e9188ac8-7ea3-4deb-9218-ce9c1071d572"
   },
   "outputs": [
    {
     "name": "stdout",
     "output_type": "stream",
     "text": [
      "(7412,) (3474,)\n"
     ]
    }
   ],
   "source": [
    "print(working.shape,non_working.shape)\n",
    "# we see that there are 7412 data points for working days and 3474 data points for non working days"
   ]
  },
  {
   "cell_type": "markdown",
   "metadata": {
    "id": "qegr5YEQ7fQX"
   },
   "source": [
    "# check for normal distribution#"
   ]
  },
  {
   "cell_type": "code",
   "execution_count": 32,
   "metadata": {
    "colab": {
     "base_uri": "https://localhost:8080/"
    },
    "id": "yTSUd0iNPTHb",
    "outputId": "34f63029-7e79-44ec-9964-741acf113b5c"
   },
   "outputs": [
    {
     "name": "stdout",
     "output_type": "stream",
     "text": [
      "4.203895392974451e-45\n",
      "Reject the Null Hypothesis\n"
     ]
    }
   ],
   "source": [
    "#H0 - the rides count data for non working days has normal distribution, Ha - the rides count data for non-working days is not normally distributed\n",
    "# we set significance level alpha =0.05\n",
    "\n",
    "alpha =0.05\n",
    "p_value=shapiro(non_working).pvalue\n",
    "\n",
    "if p_value > alpha :\n",
    "  print(p_value)\n",
    "  print(\"We do not reject the null hypothesis\")\n",
    "else:\n",
    "  print(p_value)\n",
    "  print(\"Reject the Null Hypothesis\")\n",
    "  \n",
    "# pvalue < alpha so we reject the null hypothesis, the non_working data sample does not have normal distribution"
   ]
  },
  {
   "cell_type": "code",
   "execution_count": 31,
   "metadata": {
    "colab": {
     "base_uri": "https://localhost:8080/"
    },
    "id": "A0mV97Es22AS",
    "outputId": "3636c711-bd97-4771-c795-a68880750c85"
   },
   "outputs": [
    {
     "name": "stdout",
     "output_type": "stream",
     "text": [
      "0.0\n",
      "Reject the Null Hypothesis\n"
     ]
    }
   ],
   "source": [
    "#H0 - the rides count data for working days has normal distribution, Ha - the rides count data for working days is not normally distributed\n",
    "\n",
    "alpha =0.05\n",
    "p_value=shapiro(working).pvalue\n",
    "\n",
    "if p_value > alpha :\n",
    "  print(p_value)\n",
    "  print(\"We do not reject the null hypothesis\")\n",
    "else:\n",
    "  print(p_value)\n",
    "  print(\"Reject the Null Hypothesis\")\n",
    "\n",
    "# pvalue < alpha so we reject the null hypothesis, the working data sample does not have normal distribution"
   ]
  },
  {
   "cell_type": "markdown",
   "metadata": {
    "id": "WnbdXLKK7mC9"
   },
   "source": [
    "#Check equality of variance#"
   ]
  },
  {
   "cell_type": "code",
   "execution_count": 37,
   "metadata": {
    "colab": {
     "base_uri": "https://localhost:8080/"
    },
    "id": "m2LyU8aLz0J-",
    "outputId": "c2fd6766-e35b-4a5c-e0e3-3e78cf25cbd5"
   },
   "outputs": [
    {
     "name": "stdout",
     "output_type": "stream",
     "text": [
      "0.9437823280916695\n",
      "We fail to reject the null hypothesis\n"
     ]
    }
   ],
   "source": [
    "# to check if variances of both samples are same we use levene's test, here we use median as center since the distribution is not normal\n",
    "\n",
    "#H0 - both samples have equal variance, Ha - both samples have different variance\n",
    "\n",
    "p_value=levene(working,non_working,center='median').pvalue\n",
    "\n",
    "aplha=0.05\n",
    "\n",
    "if p_value > alpha :\n",
    "  print(p_value)\n",
    "  print(\"We fail to reject the null hypothesis\")\n",
    "else:\n",
    "  print(p_value)\n",
    "  print(\"Reject the Null Hypothesis\")\n",
    "\n",
    "# The pvalue>alpha indicates that both samples have same variance, this condition for performing ttest is satisfied"
   ]
  },
  {
   "cell_type": "code",
   "execution_count": 38,
   "metadata": {
    "colab": {
     "base_uri": "https://localhost:8080/"
    },
    "id": "tbGnbIfT9BHd",
    "outputId": "30cb345b-7003-47b2-c233-47882dcc5065"
   },
   "outputs": [
    {
     "name": "stdout",
     "output_type": "stream",
     "text": [
      "34045.29037312209 30180.03350064094\n"
     ]
    }
   ],
   "source": [
    "print(working.var(),non_working.var())\n",
    "\n",
    "#This also shows almost equal variance"
   ]
  },
  {
   "cell_type": "markdown",
   "metadata": {
    "id": "R7P79vLL7w-E"
   },
   "source": [
    "#TTest#\n",
    "**we can go ahead and perform ttest, despite sample not having normal distribution, as this test works on 'mean' which have normal distribution**"
   ]
  },
  {
   "cell_type": "code",
   "execution_count": 40,
   "metadata": {
    "colab": {
     "base_uri": "https://localhost:8080/"
    },
    "id": "1HdAfK9oNwdZ",
    "outputId": "47b623c3-934e-4b2e-f7c9-5c57258e1802"
   },
   "outputs": [
    {
     "name": "stdout",
     "output_type": "stream",
     "text": [
      "0.22644804226361348\n",
      "We fail to reject the null hypothesis\n"
     ]
    }
   ],
   "source": [
    "# Ho: number of electric cycles rented on working and non working days are same (working day does not have any effect on number of cycles rented)\n",
    "# Ha: number of electric cycles rented on working and non working days are different\n",
    "\n",
    "alpha=0.05\n",
    "p_value=ttest_ind(working,non_working,alternative='two-sided').pvalue\n",
    "\n",
    "if p_value > alpha :\n",
    "  print(p_value)\n",
    "  print(\"We fail to reject the null hypothesis\")\n",
    "else:\n",
    "  print(p_value)\n",
    "  print(\"Reject the Null Hypothesis\")\n",
    "\n",
    "  #since p_value> alpha, we fail to reject the null hypothesis, we conclude that working day does NOT have any effect on number of cycles rented"
   ]
  },
  {
   "cell_type": "markdown",
   "metadata": {
    "id": "FzjWgZhdANwU"
   },
   "source": [
    "  since p_value> alpha, we fail to reject the null hypothesis, \n",
    "  \n",
    "  # we conclude that working day does NOT have any effect on number of cycles rented"
   ]
  },
  {
   "cell_type": "code",
   "execution_count": null,
   "metadata": {
    "id": "XQ_pjZABOpbM"
   },
   "outputs": [],
   "source": []
  },
  {
   "cell_type": "markdown",
   "metadata": {
    "id": "frC78mKHAzJb"
   },
   "source": [
    "# ANNOVA to check if No. of cycles rented is similar or different in different 1. weather 2. season (10 points)"
   ]
  },
  {
   "cell_type": "code",
   "execution_count": 44,
   "metadata": {
    "colab": {
     "base_uri": "https://localhost:8080/"
    },
    "id": "xSNQRz0rAzgM",
    "outputId": "719a6155-99f8-4589-b44a-f927e1b811bf"
   },
   "outputs": [
    {
     "name": "stdout",
     "output_type": "stream",
     "text": [
      "(7192,) (2834,) (859,) (1,)\n"
     ]
    }
   ],
   "source": [
    "# we first separate data samples for weather\n",
    "\n",
    "clear=electric_bikes[electric_bikes['weather']==1]['count']\n",
    "misty=electric_bikes[electric_bikes['weather']==2]['count']\n",
    "light_rain=electric_bikes[electric_bikes['weather']==3]['count']\n",
    "thunder=electric_bikes[electric_bikes['weather']==4]['count']\n",
    "\n",
    "print(clear.shape,misty.shape,light_rain.shape,thunder.shape)\n",
    "#We look at number of data points in each weather"
   ]
  },
  {
   "cell_type": "markdown",
   "metadata": {
    "id": "nxwv-GkHafWI"
   },
   "source": [
    "Assumptions for Anova -\n",
    "\n",
    "1. samples come from gaussian distribution\n",
    "2. samples drawn are independednt\n",
    "3. variances of different groups or samples is same"
   ]
  },
  {
   "cell_type": "markdown",
   "metadata": {
    "id": "7HyYG1v8ThGk"
   },
   "source": [
    "# Check if distrinution is normal"
   ]
  },
  {
   "cell_type": "code",
   "execution_count": 46,
   "metadata": {
    "colab": {
     "base_uri": "https://localhost:8080/",
     "height": 587
    },
    "id": "0tCdPN_eBied",
    "outputId": "b973568c-47dd-409d-8fb3-328655732948"
   },
   "outputs": [
    {
     "data": {
      "text/plain": [
       "<Axes: xlabel='count', ylabel='Count'>"
      ]
     },
     "execution_count": 46,
     "metadata": {},
     "output_type": "execute_result"
    },
    {
     "data": {
      "image/png": "[encoded data removed]",
      "text/plain": [
       "<Figure size 1600x1400 with 4 Axes>"
      ]
     },
     "metadata": {},
     "output_type": "display_data"
    }
   ],
   "source": [
    "#Normality visual analysis\n",
    "plt.figure(figsize=(16,14))\n",
    "\n",
    "plt.subplot(2,4,1)\n",
    "sns.histplot(clear)\n",
    "\n",
    "plt.subplot(2,4,2)\n",
    "sns.histplot(misty)\n",
    "\n",
    "plt.subplot(2,4,3)\n",
    "sns.histplot(light_rain)\n",
    "\n",
    "plt.subplot(2,4,4)\n",
    "sns.histplot(thunder)\n",
    "\n",
    "#from visual analysis we see that this distribution is not normal, only 1 value is availab;e for weather 4, we also check the normality using shapiro test"
   ]
  },
  {
   "cell_type": "code",
   "execution_count": 47,
   "metadata": {
    "colab": {
     "base_uri": "https://localhost:8080/"
    },
    "id": "0AbA00PcT2A5",
    "outputId": "467e2736-7f7f-4d95-8929-3da38ea64061"
   },
   "outputs": [
    {
     "name": "stdout",
     "output_type": "stream",
     "text": [
      "0.0\n",
      "Reject the Null Hypothesis\n"
     ]
    },
    {
     "name": "stderr",
     "output_type": "stream",
     "text": [
      "/usr/local/lib/python3.10/dist-packages/scipy/stats/_morestats.py:1816: UserWarning: p-value may not be accurate for N > 5000.\n",
      "  warnings.warn(\"p-value may not be accurate for N > 5000.\")\n"
     ]
    }
   ],
   "source": [
    "#H0 - the rides count data for non working days has normal distribution, Ha - the rides count data for non-working days is not normally distributed\n",
    "# we set significance level alpha =0.05\n",
    "\n",
    "#Clear weather\n",
    "\n",
    "alpha =0.05\n",
    "p_value=shapiro(clear).pvalue\n",
    "\n",
    "if p_value > alpha :\n",
    "  print(p_value)\n",
    "  print(\"We do not reject the null hypothesis\")\n",
    "else:\n",
    "  print(p_value)\n",
    "  print(\"Reject the Null Hypothesis\")\n",
    "  \n",
    "# pvalue < alpha so we reject the null hypothesis, the clear data sample does not have normal distribution"
   ]
  },
  {
   "cell_type": "code",
   "execution_count": 48,
   "metadata": {
    "colab": {
     "base_uri": "https://localhost:8080/"
    },
    "id": "pw8lC5MuUEjy",
    "outputId": "a0ff13b0-9056-4fda-aa88-16998ba0c9e5"
   },
   "outputs": [
    {
     "name": "stdout",
     "output_type": "stream",
     "text": [
      "9.781063280987223e-43\n",
      "Reject the Null Hypothesis\n"
     ]
    }
   ],
   "source": [
    "#H0 - the rides count data for non working days has normal distribution, Ha - the rides count data for non-working days is not normally distributed\n",
    "# we set significance level alpha =0.05\n",
    "\n",
    "#Misty weather\n",
    "\n",
    "alpha =0.05\n",
    "p_value=shapiro(misty).pvalue\n",
    "\n",
    "if p_value > alpha :\n",
    "  print(p_value)\n",
    "  print(\"We do not reject the null hypothesis\")\n",
    "else:\n",
    "  print(p_value)\n",
    "  print(\"Reject the Null Hypothesis\")\n",
    "  \n",
    "# pvalue < alpha so we reject the null hypothesis, the misty data sample does not have normal distribution"
   ]
  },
  {
   "cell_type": "code",
   "execution_count": 49,
   "metadata": {
    "colab": {
     "base_uri": "https://localhost:8080/"
    },
    "id": "d29hJCxYUPrF",
    "outputId": "3fe9a254-31ef-4d8b-d789-f34e8ca77209"
   },
   "outputs": [
    {
     "name": "stdout",
     "output_type": "stream",
     "text": [
      "3.876090133422781e-33\n",
      "Reject the Null Hypothesis\n"
     ]
    }
   ],
   "source": [
    "#H0 - the rides count data for non working days has normal distribution, Ha - the rides count data for non-working days is not normally distributed\n",
    "# we set significance level alpha =0.05\n",
    "\n",
    "#light rain weather\n",
    "\n",
    "alpha =0.05\n",
    "p_value=shapiro(light_rain).pvalue\n",
    "\n",
    "if p_value > alpha :\n",
    "  print(p_value)\n",
    "  print(\"We do not reject the null hypothesis\")\n",
    "else:\n",
    "  print(p_value)\n",
    "  print(\"Reject the Null Hypothesis\")\n",
    "  \n",
    "# pvalue < alpha so we reject the null hypothesis, the light_rain data sample does not have normal distribution"
   ]
  },
  {
   "cell_type": "markdown",
   "metadata": {
    "id": "8K_a-Ju1UrBz"
   },
   "source": [
    "# observations\n",
    "\n",
    "1. distribution cant be analyzed for weather thunder as only one data point is present\n",
    "2. rest all distributions are not normal\n",
    "\n",
    "but since we operate on means and distribution of means is always normal we will proceed further to check if variances of samples are same. if they are not same we will apply kruskal wallace test otherwise we will apply annova"
   ]
  },
  {
   "cell_type": "markdown",
   "metadata": {
    "id": "jwXRnyV_a4no"
   },
   "source": [
    "# check equality of variance - levene test"
   ]
  },
  {
   "cell_type": "code",
   "execution_count": 52,
   "metadata": {
    "colab": {
     "base_uri": "https://localhost:8080/"
    },
    "id": "TGy4gJaPUkC4",
    "outputId": "8bfae182-9ec9-4539-e672-d1c604d78447"
   },
   "outputs": [
    {
     "name": "stdout",
     "output_type": "stream",
     "text": [
      "3.504937946833238e-35\n",
      "Reject the Null Hypothesis\n"
     ]
    }
   ],
   "source": [
    "# to check if variances of both samples are same we use levene's test, here we use median as center since the distribution is not normal\n",
    "\n",
    "#H0 - all samples have equal variance, Ha - samples have different variance\n",
    "\n",
    "p_value=levene(clear,misty,thunder,light_rain,center='median').pvalue\n",
    "\n",
    "aplha=0.05\n",
    "\n",
    "if p_value > alpha :\n",
    "  print(p_value)\n",
    "  print(\"We fail to reject the null hypothesis\")\n",
    "else:\n",
    "  print(p_value)\n",
    "  print(\"Reject the Null Hypothesis\")\n",
    "\n",
    "# The pvalue>alpha indicates that samples dont have same variance, this condition for performing anova is not satisfied"
   ]
  },
  {
   "cell_type": "markdown",
   "metadata": {
    "id": "5olLOPFRbP2s"
   },
   "source": [
    "# we see that variances of groups are also different so we use kruskal wallace test here instead of annova\n",
    "\n",
    "#kruskal wallace test: since variances differ"
   ]
  },
  {
   "cell_type": "code",
   "execution_count": 56,
   "metadata": {
    "colab": {
     "base_uri": "https://localhost:8080/"
    },
    "id": "Bru_ZUSjbCk8",
    "outputId": "c3a15bba-cb4b-42b3-8f0c-38e5afa6a0ac"
   },
   "outputs": [
    {
     "name": "stdout",
     "output_type": "stream",
     "text": [
      "3.501611300708679e-44\n",
      "Reject the Null Hypothesis, number of cycles rented depends on weather\n"
     ]
    }
   ],
   "source": [
    "# Ho: number of electric cycles rented in different weather are same (weather does not have any effect on number of cycles rented)\n",
    "# Ha: number of electric cycles rented in different weather are different\n",
    "\n",
    "alpha=0.05\n",
    "p_value=kruskal(clear,thunder,misty,light_rain).pvalue\n",
    "\n",
    "if p_value > alpha :\n",
    "  print(p_value)\n",
    "  print(\"We fail to reject the null hypothesis\")\n",
    "else:\n",
    "  print(p_value)\n",
    "  print(\"Reject the Null Hypothesis, number of cycles rented depends on weather\")\n",
    "\n",
    "  #since p_value> alpha, we reject the null hypothesis, we conclude that weather effects the number of cycles rented"
   ]
  },
  {
   "cell_type": "markdown",
   "metadata": {
    "id": "O25HL7IfcMKW"
   },
   "source": [
    "# perform same analysis for seasons"
   ]
  },
  {
   "cell_type": "code",
   "execution_count": 57,
   "metadata": {
    "colab": {
     "base_uri": "https://localhost:8080/"
    },
    "id": "3JVW25iKbjUg",
    "outputId": "7a62d01a-17e8-40f3-89ba-7eba52491047"
   },
   "outputs": [
    {
     "name": "stdout",
     "output_type": "stream",
     "text": [
      "(2686,) (2733,) (2733,) (2734,)\n"
     ]
    }
   ],
   "source": [
    "# we first separate data samples for seasons - 1: spring, 2: summer, 3: fall, 4: winter\n",
    "\n",
    "spring=electric_bikes[electric_bikes['season']==1]['count']\n",
    "summer=electric_bikes[electric_bikes['season']==2]['count']\n",
    "fall=electric_bikes[electric_bikes['season']==3]['count']\n",
    "winter=electric_bikes[electric_bikes['season']==4]['count']\n",
    "\n",
    "print(spring.shape,summer.shape,fall.shape,winter.shape)\n",
    "#We look at number of data points in each season"
   ]
  },
  {
   "cell_type": "markdown",
   "metadata": {
    "id": "-DIIWxP7csaj"
   },
   "source": [
    "#Check normal distribution -visually and shapiro test"
   ]
  },
  {
   "cell_type": "code",
   "execution_count": 58,
   "metadata": {
    "colab": {
     "base_uri": "https://localhost:8080/",
     "height": 587
    },
    "id": "_rhlzg4jcm6t",
    "outputId": "6deab139-14fb-46db-9aaa-49e61ae209d7"
   },
   "outputs": [
    {
     "data": {
      "text/plain": [
       "<Axes: xlabel='count', ylabel='Count'>"
      ]
     },
     "execution_count": 58,
     "metadata": {},
     "output_type": "execute_result"
    },
    {
     "data": {
      "image/png": "[encoded data removed]",
      "text/plain": [
       "<Figure size 1600x1400 with 4 Axes>"
      ]
     },
     "metadata": {},
     "output_type": "display_data"
    }
   ],
   "source": [
    "#Normality visual analysis\n",
    "plt.figure(figsize=(16,14))\n",
    "\n",
    "plt.subplot(2,4,1)\n",
    "sns.histplot(spring)\n",
    "\n",
    "plt.subplot(2,4,2)\n",
    "sns.histplot(summer)\n",
    "\n",
    "plt.subplot(2,4,3)\n",
    "sns.histplot(fall)\n",
    "\n",
    "plt.subplot(2,4,4)\n",
    "sns.histplot(winter)\n",
    "\n",
    "#from visual analysis we see that this distribution is not normal, we also check the normality using shapiro test"
   ]
  },
  {
   "cell_type": "code",
   "execution_count": 59,
   "metadata": {
    "colab": {
     "base_uri": "https://localhost:8080/"
    },
    "id": "x8BKk_2hcy1t",
    "outputId": "7639c8c6-e59a-46e3-9206-6fc8fc6d3ddc"
   },
   "outputs": [
    {
     "name": "stdout",
     "output_type": "stream",
     "text": [
      "0.0\n",
      "Reject the Null Hypothesis\n"
     ]
    }
   ],
   "source": [
    "#H0 - the rides count data for spring season has normal distribution, Ha - the rides count data for spring season is not normally distributed\n",
    "# we set significance level alpha =0.05\n",
    "\n",
    "#spring season\n",
    "\n",
    "alpha =0.05\n",
    "p_value=shapiro(spring).pvalue\n",
    "\n",
    "if p_value > alpha :\n",
    "  print(p_value)\n",
    "  print(\"We do not reject the null hypothesis\")\n",
    "else:\n",
    "  print(p_value)\n",
    "  print(\"Reject the Null Hypothesis\")\n",
    "  \n",
    "# pvalue < alpha so we reject the null hypothesis, the spring data sample does not have normal distribution"
   ]
  },
  {
   "cell_type": "code",
   "execution_count": 60,
   "metadata": {
    "colab": {
     "base_uri": "https://localhost:8080/"
    },
    "id": "VfcCo3uyc-hm",
    "outputId": "9d069415-3da1-4ba5-9960-1babb85c1101"
   },
   "outputs": [
    {
     "name": "stdout",
     "output_type": "stream",
     "text": [
      "6.039093315091269e-39\n",
      "Reject the Null Hypothesis\n"
     ]
    }
   ],
   "source": [
    "#H0 - the rides count data for summer season has normal distribution, Ha - the rides count data for summer season is not normally distributed\n",
    "# we set significance level alpha =0.05\n",
    "\n",
    "#summer season\n",
    "\n",
    "alpha =0.05\n",
    "p_value=shapiro(summer).pvalue\n",
    "\n",
    "if p_value > alpha :\n",
    "  print(p_value)\n",
    "  print(\"We do not reject the null hypothesis\")\n",
    "else:\n",
    "  print(p_value)\n",
    "  print(\"Reject the Null Hypothesis\")\n",
    "  \n",
    "# pvalue < alpha so we reject the null hypothesis, the summer data sample does not have normal distribution"
   ]
  },
  {
   "cell_type": "code",
   "execution_count": 61,
   "metadata": {
    "colab": {
     "base_uri": "https://localhost:8080/"
    },
    "id": "xyoZIbQhdSyn",
    "outputId": "907e8e5c-e940-4cd1-fe6b-b7871eb33bb6"
   },
   "outputs": [
    {
     "name": "stdout",
     "output_type": "stream",
     "text": [
      "1.043458045587339e-36\n",
      "Reject the Null Hypothesis\n"
     ]
    }
   ],
   "source": [
    "#H0 - the rides count data for fall season has normal distribution, Ha - the rides count data for fall season is not normally distributed\n",
    "# we set significance level alpha =0.05\n",
    "\n",
    "#fall season\n",
    "\n",
    "alpha =0.05\n",
    "p_value=shapiro(fall).pvalue\n",
    "\n",
    "if p_value > alpha :\n",
    "  print(p_value)\n",
    "  print(\"We do not reject the null hypothesis\")\n",
    "else:\n",
    "  print(p_value)\n",
    "  print(\"Reject the Null Hypothesis\")\n",
    "  \n",
    "# pvalue < alpha so we reject the null hypothesis, the fall data sample does not have normal distribution"
   ]
  },
  {
   "cell_type": "code",
   "execution_count": 62,
   "metadata": {
    "colab": {
     "base_uri": "https://localhost:8080/"
    },
    "id": "J60wQqdUdbd1",
    "outputId": "cb4eb0d6-4959-4c0d-bacc-a90a79e14150"
   },
   "outputs": [
    {
     "name": "stdout",
     "output_type": "stream",
     "text": [
      "1.1301682309549298e-39\n",
      "Reject the Null Hypothesis\n"
     ]
    }
   ],
   "source": [
    "#H0 - the rides count data for winter season has normal distribution, Ha - the rides count data for winter season is not normally distributed\n",
    "# we set significance level alpha =0.05\n",
    "\n",
    "#winter season\n",
    "\n",
    "alpha =0.05\n",
    "p_value=shapiro(winter).pvalue\n",
    "\n",
    "if p_value > alpha :\n",
    "  print(p_value)\n",
    "  print(\"We do not reject the null hypothesis\")\n",
    "else:\n",
    "  print(p_value)\n",
    "  print(\"Reject the Null Hypothesis\")\n",
    "  \n",
    "# pvalue < alpha so we reject the null hypothesis, the winter data sample does not have normal distribution"
   ]
  },
  {
   "cell_type": "markdown",
   "metadata": {
    "id": "FQmAlOqNdpeN"
   },
   "source": [
    "Observations:\n",
    "\n",
    "1. none of the samples have normal distribution"
   ]
  },
  {
   "cell_type": "markdown",
   "metadata": {
    "id": "4Q2cutlodvlk"
   },
   "source": [
    "#Check equality of variance using levene test"
   ]
  },
  {
   "cell_type": "code",
   "execution_count": 63,
   "metadata": {
    "colab": {
     "base_uri": "https://localhost:8080/"
    },
    "id": "R-bZiBRjdlTR",
    "outputId": "cd70677f-a764-48ae-890a-85baee0bd3eb"
   },
   "outputs": [
    {
     "name": "stdout",
     "output_type": "stream",
     "text": [
      "1.0147116860043298e-118\n",
      "Reject the Null Hypothesis\n"
     ]
    }
   ],
   "source": [
    "# to check if variances of both samples are same we use levene's test, here we use median as center since the distribution is not normal\n",
    "\n",
    "#H0 - all samples have equal variance, Ha - samples have different variance\n",
    "\n",
    "p_value=levene(spring,summer,fall,winter,center='median').pvalue\n",
    "\n",
    "aplha=0.05\n",
    "\n",
    "if p_value > alpha :\n",
    "  print(p_value)\n",
    "  print(\"We fail to reject the null hypothesis\")\n",
    "else:\n",
    "  print(p_value)\n",
    "  print(\"Reject the Null Hypothesis\")\n",
    "\n",
    "# The pvalue>alpha indicates that samples have different variance, this condition for performing anova is not satisfied"
   ]
  },
  {
   "cell_type": "markdown",
   "metadata": {
    "id": "NRcrDykMeLi5"
   },
   "source": [
    "# since both conditions/assumptions for annova are not satisfied we perform kruskal wallace test"
   ]
  },
  {
   "cell_type": "code",
   "execution_count": 73,
   "metadata": {
    "colab": {
     "base_uri": "https://localhost:8080/"
    },
    "id": "6S-jhpZceH6x",
    "outputId": "367a5766-c043-48e8-86b3-a3335ba2307f"
   },
   "outputs": [
    {
     "name": "stdout",
     "output_type": "stream",
     "text": [
      "2.479008372608633e-151\n",
      "Reject the Null Hypothesis, number of cycles rented depends on seasons\n"
     ]
    }
   ],
   "source": [
    "# Ho: number of electric cycles rented in different seasons are same (seasons does not have any effect on number of cycles rented)\n",
    "# Ha: number of electric cycles rented in different seasons are different\n",
    "\n",
    "alpha=0.05\n",
    "p_value=kruskal(spring,summer,fall,winter).pvalue\n",
    "#kstat=kruskal(spring,summer,fall,winter).statistic\n",
    "\n",
    "if p_value > alpha :\n",
    "  print(p_value)\n",
    "  print(\"We fail to reject the null hypothesis\")\n",
    "  \n",
    "else:\n",
    "  print(p_value)\n",
    "  print(\"Reject the Null Hypothesis, number of cycles rented depends on seasons\")\n",
    "\n",
    "  #since p_value> alpha, we reject the null hypothesis, we conclude that weather effects the number of cycles rented"
   ]
  },
  {
   "cell_type": "markdown",
   "metadata": {
    "id": "yuPUvQWhfxhh"
   },
   "source": [
    "# Chi-square test to check if Weather is dependent on the season (10 points)\n",
    "\n",
    "this analysis is between two categorical variables so we use chi-square test"
   ]
  },
  {
   "cell_type": "code",
   "execution_count": 83,
   "metadata": {
    "colab": {
     "base_uri": "https://localhost:8080/",
     "height": 206
    },
    "id": "TQSnoUpeebU8",
    "outputId": "032668a6-d81f-46d1-8512-57ead0481fcd"
   },
   "outputs": [
    {
     "data": {
      "text/html": [
       "\n",
       "  <div id=\"df-6081d073-dd15-4a3e-ae66-be59c9bc449b\">\n",
       "    <div class=\"colab-df-container\">\n",
       "      <div>\n",
       "<style scoped>\n",
       "    .dataframe tbody tr th:only-of-type {\n",
       "        vertical-align: middle;\n",
       "    }\n",
       "\n",
       "    .dataframe tbody tr th {\n",
       "        vertical-align: top;\n",
       "    }\n",
       "\n",
       "    .dataframe thead th {\n",
       "        text-align: right;\n",
       "    }\n",
       "</style>\n",
       "<table border=\"1\" class=\"dataframe\">\n",
       "  <thead>\n",
       "    <tr style=\"text-align: right;\">\n",
       "      <th>season</th>\n",
       "      <th>1</th>\n",
       "      <th>2</th>\n",
       "      <th>3</th>\n",
       "      <th>4</th>\n",
       "    </tr>\n",
       "    <tr>\n",
       "      <th>weather</th>\n",
       "      <th></th>\n",
       "      <th></th>\n",
       "      <th></th>\n",
       "      <th></th>\n",
       "    </tr>\n",
       "  </thead>\n",
       "  <tbody>\n",
       "    <tr>\n",
       "      <th>1</th>\n",
       "      <td>1759</td>\n",
       "      <td>1801</td>\n",
       "      <td>1930</td>\n",
       "      <td>1702</td>\n",
       "    </tr>\n",
       "    <tr>\n",
       "      <th>2</th>\n",
       "      <td>715</td>\n",
       "      <td>708</td>\n",
       "      <td>604</td>\n",
       "      <td>807</td>\n",
       "    </tr>\n",
       "    <tr>\n",
       "      <th>3</th>\n",
       "      <td>211</td>\n",
       "      <td>224</td>\n",
       "      <td>199</td>\n",
       "      <td>225</td>\n",
       "    </tr>\n",
       "    <tr>\n",
       "      <th>4</th>\n",
       "      <td>1</td>\n",
       "      <td>0</td>\n",
       "      <td>0</td>\n",
       "      <td>0</td>\n",
       "    </tr>\n",
       "  </tbody>\n",
       "</table>\n",
       "</div>\n",
       "      <button class=\"colab-df-convert\" onclick=\"convertToInteractive('df-6081d073-dd15-4a3e-ae66-be59c9bc449b')\"\n",
       "              title=\"Convert this dataframe to an interactive table.\"\n",
       "              style=\"display:none;\">\n",
       "        \n",
       "  <svg xmlns=\"http://www.w3.org/2000/svg\" height=\"24px\"viewBox=\"0 0 24 24\"\n",
       "       width=\"24px\">\n",
       "    <path d=\"M0 0h24v24H0V0z\" fill=\"none\"/>\n",
       "    <path d=\"M18.56 5.44l.94 2.06.94-2.06 2.06-.94-2.06-.94-.94-2.06-.94 2.06-2.06.94zm-11 1L8.5 8.5l.94-2.06 2.06-.94-2.06-.94L8.5 2.5l-.94 2.06-2.06.94zm10 10l.94 2.06.94-2.06 2.06-.94-2.06-.94-.94-2.06-.94 2.06-2.06.94z\"/><path d=\"M17.41 7.96l-1.37-1.37c-.4-.4-.92-.59-1.43-.59-.52 0-1.04.2-1.43.59L10.3 9.45l-7.72 7.72c-.78.78-.78 2.05 0 2.83L4 21.41c.39.39.9.59 1.41.59.51 0 1.02-.2 1.41-.59l7.78-7.78 2.81-2.81c.8-.78.8-2.07 0-2.86zM5.41 20L4 18.59l7.72-7.72 1.47 1.35L5.41 20z\"/>\n",
       "  </svg>\n",
       "      </button>\n",
       "      \n",
       "  <style>\n",
       "    .colab-df-container {\n",
       "      display:flex;\n",
       "      flex-wrap:wrap;\n",
       "      gap: 12px;\n",
       "    }\n",
       "\n",
       "    .colab-df-convert {\n",
       "      background-color: #E8F0FE;\n",
       "      border: none;\n",
       "      border-radius: 50%;\n",
       "      cursor: pointer;\n",
       "      display: none;\n",
       "      fill: #1967D2;\n",
       "      height: 32px;\n",
       "      padding: 0 0 0 0;\n",
       "      width: 32px;\n",
       "    }\n",
       "\n",
       "    .colab-df-convert:hover {\n",
       "      background-color: #E2EBFA;\n",
       "      box-shadow: 0px 1px 2px rgba(60, 64, 67, 0.3), 0px 1px 3px 1px rgba(60, 64, 67, 0.15);\n",
       "      fill: #174EA6;\n",
       "    }\n",
       "\n",
       "    [theme=dark] .colab-df-convert {\n",
       "      background-color: #3B4455;\n",
       "      fill: #D2E3FC;\n",
       "    }\n",
       "\n",
       "    [theme=dark] .colab-df-convert:hover {\n",
       "      background-color: #434B5C;\n",
       "      box-shadow: 0px 1px 3px 1px rgba(0, 0, 0, 0.15);\n",
       "      filter: drop-shadow(0px 1px 2px rgba(0, 0, 0, 0.3));\n",
       "      fill: #FFFFFF;\n",
       "    }\n",
       "  </style>\n",
       "\n",
       "      <script>\n",
       "        const buttonEl =\n",
       "          document.querySelector('#df-6081d073-dd15-4a3e-ae66-be59c9bc449b button.colab-df-convert');\n",
       "        buttonEl.style.display =\n",
       "          google.colab.kernel.accessAllowed ? 'block' : 'none';\n",
       "\n",
       "        async function convertToInteractive(key) {\n",
       "          const element = document.querySelector('#df-6081d073-dd15-4a3e-ae66-be59c9bc449b');\n",
       "          const dataTable =\n",
       "            await google.colab.kernel.invokeFunction('convertToInteractive',\n",
       "                                                     [key], {});\n",
       "          if (!dataTable) return;\n",
       "\n",
       "          const docLinkHtml = 'Like what you see? Visit the ' +\n",
       "            '<a target=\"_blank\" href=https://colab.research.google.com/notebooks/data_table.ipynb>data table notebook</a>'\n",
       "            + ' to learn more about interactive tables.';\n",
       "          element.innerHTML = '';\n",
       "          dataTable['output_type'] = 'display_data';\n",
       "          await google.colab.output.renderOutput(dataTable, element);\n",
       "          const docLink = document.createElement('div');\n",
       "          docLink.innerHTML = docLinkHtml;\n",
       "          element.appendChild(docLink);\n",
       "        }\n",
       "      </script>\n",
       "    </div>\n",
       "  </div>\n",
       "  "
      ],
      "text/plain": [
       "season      1     2     3     4\n",
       "weather                        \n",
       "1        1759  1801  1930  1702\n",
       "2         715   708   604   807\n",
       "3         211   224   199   225\n",
       "4           1     0     0     0"
      ]
     },
     "execution_count": 83,
     "metadata": {},
     "output_type": "execute_result"
    }
   ],
   "source": [
    "pd.crosstab(electric_bikes['weather'],electric_bikes['season'])"
   ]
  },
  {
   "cell_type": "code",
   "execution_count": 79,
   "metadata": {
    "colab": {
     "base_uri": "https://localhost:8080/"
    },
    "id": "E1LtOmlAgN5T",
    "outputId": "f9b25999-d46d-4c25-e38e-3c00c9884d39"
   },
   "outputs": [
    {
     "data": {
      "text/plain": [
       "Chi2ContingencyResult(statistic=49.15865559689363, pvalue=1.5499250736864862e-07, dof=9, expected_freq=array([[1.77454639e+03, 1.80559765e+03, 1.80559765e+03, 1.80625831e+03],\n",
       "       [6.99258130e+02, 7.11493845e+02, 7.11493845e+02, 7.11754180e+02],\n",
       "       [2.11948742e+02, 2.15657450e+02, 2.15657450e+02, 2.15736359e+02],\n",
       "       [2.46738931e-01, 2.51056403e-01, 2.51056403e-01, 2.51148264e-01]]))"
      ]
     },
     "execution_count": 79,
     "metadata": {},
     "output_type": "execute_result"
    }
   ],
   "source": [
    "chi2_contingency(pd.crosstab(electric_bikes['weather'],electric_bikes['season']))"
   ]
  },
  {
   "cell_type": "code",
   "execution_count": 82,
   "metadata": {
    "colab": {
     "base_uri": "https://localhost:8080/"
    },
    "id": "nV-ql-nRgVy4",
    "outputId": "28a15505-d101-4144-ae23-4dce21d9db81"
   },
   "outputs": [
    {
     "name": "stdout",
     "output_type": "stream",
     "text": [
      "1.5499250736864862e-07\n",
      "Reject the Null Hypothesis, weather and seasons are dependent\n"
     ]
    }
   ],
   "source": [
    "# Ho: weather and seasons are independent\n",
    "# Ha: weather and seasons are dependent\n",
    "\n",
    "alpha=0.05\n",
    "p_value=chi2_contingency(pd.crosstab(electric_bikes['weather'],electric_bikes['season'])).pvalue\n",
    "\n",
    "if p_value > alpha :\n",
    "  print(p_value)\n",
    "  print(\"We fail to reject the null hypothesis\")\n",
    "else:\n",
    "  print(p_value)\n",
    "  print(\"Reject the Null Hypothesis, weather and seasons are dependent\")\n",
    "\n",
    "  #since p_value> alpha, we reject the null hypothesis, we conclude that weather effects the number of cycles rented"
   ]
  },
  {
   "cell_type": "code",
   "execution_count": 84,
   "metadata": {
    "id": "N9OdwgYDiHT5"
   },
   "outputs": [],
   "source": [
    "## note: feature engg. 1 que 4 same null and alternate hypothesis taken - dependent if p<alpha and independent if p>alpha"
   ]
  },
  {
   "cell_type": "code",
   "execution_count": null,
   "metadata": {
    "id": "XvAkRVjUkBFx"
   },
   "outputs": [],
   "source": []
  },
  {
   "cell_type": "markdown",
   "metadata": {
    "id": "EqYPG46DkCRj"
   },
   "source": [
    "Inference\n",
    "\n",
    "1. We see that number of cycles rented does not depend on working day\n",
    "2. number of cycles rented depends on weather\n",
    "3. number of cycles rented depends on seasons\n",
    "4. weather and seasons are dependent"
   ]
  },
  {
   "cell_type": "code",
   "execution_count": 85,
   "metadata": {
    "id": "DgkM5nD_ksbr"
   },
   "outputs": [],
   "source": [
    "# https://colab.research.google.com/drive/1BC_sY-8eQF-9sRQakjbSdoMstiWWaiMM#scrollTo=DgkM5nD_ksbr"
   ]
  },
  {
   "cell_type": "code",
   "execution_count": null,
   "metadata": {
    "id": "KKWnSfUbkyYv"
   },
   "outputs": [],
   "source": []
  }
 ],
 "metadata": {
  "colab": {
   "provenance": []
  },
  "kernelspec": {
   "display_name": "Python 3 (ipykernel)",
   "language": "python",
   "name": "python3"
  },
  "language_info": {
   "codemirror_mode": {
    "name": "ipython",
    "version": 3
   },
   "file_extension": ".py",
   "mimetype": "text/x-python",
   "name": "python",
   "nbconvert_exporter": "python",
   "pygments_lexer": "ipython3",
   "version": "3.9.13"
  }
 },
 "nbformat": 4,
 "nbformat_minor": 1
}
