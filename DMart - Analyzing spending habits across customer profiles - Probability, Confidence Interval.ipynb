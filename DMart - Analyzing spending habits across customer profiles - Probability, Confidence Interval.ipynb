{
 "cells": [
  {
   "cell_type": "markdown",
   "metadata": {
    "id": "IJxrbv7eNnnV"
   },
   "source": [
    "Q1. Business Case: DMart - Confidence Interval and CLT\n",
    "About DMart\n",
    "\n",
    "DMart is an American multinational retail corporation that operates a chain of supercenters, discount departmental stores, and grocery stores from the United States. DMart has more than 100 million customers worldwide.\n",
    "\n",
    "\n",
    "**Business Problem**\n",
    "\n",
    "The Management team at DMart Inc. wants to analyze the customer purchase behavior (specifically, purchase amount) against the customer’s gender and the various other factors to help the business make better decisions. They want to understand if the spending habits differ between male and female customers: Do women spend more on Black Friday than men? (Assume 50 million customers are male and 50 million are female).\n",
    "\n",
    "**Dataset**\n",
    "\n",
    "The company collected the transactional data of customers who purchased products from the DMart Stores during Black Friday. The dataset has the following features:\n",
    "Dataset link: DMart_data.csv\n",
    "\n",
    "User_ID:\tUser ID\n",
    "Product_ID:\tProduct ID\n",
    "Gender:\tSex of User\n",
    "Age:\tAge in bins\n",
    "Occupation:\tOccupation(Masked)\n",
    "City_Category:\tCategory of the City (A,B,C)\n",
    "StayInCurrentCityYears:\tNumber of years stay in current city\n",
    "Marital_Status:\tMarital Status\n",
    "ProductCategory:\tProduct Category (Masked)\n",
    "Purchase:\tPurchase Amount\n",
    "\n"
   ]
  },
  {
   "cell_type": "markdown",
   "metadata": {
    "id": "E8Zd5aR0SE6q"
   },
   "source": []
  },
  {
   "cell_type": "markdown",
   "metadata": {
    "id": "8lh8_JHqSFuP"
   },
   "source": [
    "\n",
    "**What good looks like?**\n",
    "\n",
    "Import the dataset and do usual data analysis steps like checking the structure & characteristics of the dataset.\n",
    "\n",
    "Detect Null values & Outliers (using boxplot, “describe” method by checking the difference between mean and median, isnull etc.)\n",
    "Do some data exploration steps like:\n",
    "\n",
    "Tracking the amount spent per transaction of all the 50 million female customers, and all the 50 million male customers, calculate the average, and conclude the results.\n",
    "\n",
    "Inference after computing the average female and male expenses.\n",
    "Use the sample average to find out an interval within which the population average will lie. Using the sample of female customers you will calculate the interval within which the average spending of 50 million male and female customers may lie.\n",
    "\n",
    "Use the Central limit theorem to compute the interval. Change the sample size to observe the distribution of the mean of the expenses by female and male customers.\n",
    "\n",
    "The interval that you calculated is called Confidence Interval. The width of the interval is mostly decided by the business: Typically 90%, 95%, or 99%. Play around with the width parameter and report the observations.\n",
    "\n",
    "Conclude the results and check if the confidence intervals of average male and female spends are overlapping or not overlapping. How can DMart leverage this conclusion to make changes or improvements?\n",
    "\n",
    "Perform the same activity for Married vs Unmarried and Age\n",
    "For Age, you can try bins based on life stages: 0-17, 18-25, 26-35, 36-50, 51+ years.\n",
    "\n",
    "Give recommendations and action items to DMart."
   ]
  },
  {
   "cell_type": "code",
   "execution_count": 1,
   "metadata": {
    "id": "IyZImWnuNpZn"
   },
   "outputs": [],
   "source": [
    "import pandas as pd"
   ]
  },
  {
   "cell_type": "code",
   "execution_count": 2,
   "metadata": {
    "id": "h6Ea2vl0NrK5"
   },
   "outputs": [],
   "source": [
    "DMart=pd.read_csv(\"https://d2beiqkhq929f0.cloudfront.net/public_assets/assets/000/001/293/original/DMart_data.csv?1641285094\")"
   ]
  },
  {
   "cell_type": "code",
   "execution_count": 3,
   "metadata": {
    "colab": {
     "base_uri": "https://localhost:8080/",
     "height": 206
    },
    "id": "XSU3wavFNwoe",
    "outputId": "9571a4f0-900a-48c1-fea9-d44b298db09d"
   },
   "outputs": [
    {
     "data": {
      "text/html": [
       "<div>\n",
       "<style scoped>\n",
       "    .dataframe tbody tr th:only-of-type {\n",
       "        vertical-align: middle;\n",
       "    }\n",
       "\n",
       "    .dataframe tbody tr th {\n",
       "        vertical-align: top;\n",
       "    }\n",
       "\n",
       "    .dataframe thead th {\n",
       "        text-align: right;\n",
       "    }\n",
       "</style>\n",
       "<table border=\"1\" class=\"dataframe\">\n",
       "  <thead>\n",
       "    <tr style=\"text-align: right;\">\n",
       "      <th></th>\n",
       "      <th>User_ID</th>\n",
       "      <th>Product_ID</th>\n",
       "      <th>Gender</th>\n",
       "      <th>Age</th>\n",
       "      <th>Occupation</th>\n",
       "      <th>City_Category</th>\n",
       "      <th>Stay_In_Current_City_Years</th>\n",
       "      <th>Marital_Status</th>\n",
       "      <th>Product_Category</th>\n",
       "      <th>Purchase</th>\n",
       "    </tr>\n",
       "  </thead>\n",
       "  <tbody>\n",
       "    <tr>\n",
       "      <th>0</th>\n",
       "      <td>1000001</td>\n",
       "      <td>P00069042</td>\n",
       "      <td>F</td>\n",
       "      <td>0-17</td>\n",
       "      <td>10</td>\n",
       "      <td>A</td>\n",
       "      <td>2</td>\n",
       "      <td>0</td>\n",
       "      <td>3</td>\n",
       "      <td>8370</td>\n",
       "    </tr>\n",
       "    <tr>\n",
       "      <th>1</th>\n",
       "      <td>1000001</td>\n",
       "      <td>P00248942</td>\n",
       "      <td>F</td>\n",
       "      <td>0-17</td>\n",
       "      <td>10</td>\n",
       "      <td>A</td>\n",
       "      <td>2</td>\n",
       "      <td>0</td>\n",
       "      <td>1</td>\n",
       "      <td>15200</td>\n",
       "    </tr>\n",
       "    <tr>\n",
       "      <th>2</th>\n",
       "      <td>1000001</td>\n",
       "      <td>P00087842</td>\n",
       "      <td>F</td>\n",
       "      <td>0-17</td>\n",
       "      <td>10</td>\n",
       "      <td>A</td>\n",
       "      <td>2</td>\n",
       "      <td>0</td>\n",
       "      <td>12</td>\n",
       "      <td>1422</td>\n",
       "    </tr>\n",
       "    <tr>\n",
       "      <th>3</th>\n",
       "      <td>1000001</td>\n",
       "      <td>P00085442</td>\n",
       "      <td>F</td>\n",
       "      <td>0-17</td>\n",
       "      <td>10</td>\n",
       "      <td>A</td>\n",
       "      <td>2</td>\n",
       "      <td>0</td>\n",
       "      <td>12</td>\n",
       "      <td>1057</td>\n",
       "    </tr>\n",
       "    <tr>\n",
       "      <th>4</th>\n",
       "      <td>1000002</td>\n",
       "      <td>P00285442</td>\n",
       "      <td>M</td>\n",
       "      <td>55+</td>\n",
       "      <td>16</td>\n",
       "      <td>C</td>\n",
       "      <td>4+</td>\n",
       "      <td>0</td>\n",
       "      <td>8</td>\n",
       "      <td>7969</td>\n",
       "    </tr>\n",
       "  </tbody>\n",
       "</table>\n",
       "</div>"
      ],
      "text/plain": [
       "   User_ID Product_ID Gender   Age  Occupation City_Category  \\\n",
       "0  1000001  P00069042      F  0-17          10             A   \n",
       "1  1000001  P00248942      F  0-17          10             A   \n",
       "2  1000001  P00087842      F  0-17          10             A   \n",
       "3  1000001  P00085442      F  0-17          10             A   \n",
       "4  1000002  P00285442      M   55+          16             C   \n",
       "\n",
       "  Stay_In_Current_City_Years  Marital_Status  Product_Category  Purchase  \n",
       "0                          2               0                 3      8370  \n",
       "1                          2               0                 1     15200  \n",
       "2                          2               0                12      1422  \n",
       "3                          2               0                12      1057  \n",
       "4                         4+               0                 8      7969  "
      ]
     },
     "execution_count": 3,
     "metadata": {},
     "output_type": "execute_result"
    }
   ],
   "source": [
    "DMart.head()"
   ]
  },
  {
   "cell_type": "code",
   "execution_count": 4,
   "metadata": {
    "colab": {
     "base_uri": "https://localhost:8080/"
    },
    "id": "6aNez66LN78k",
    "outputId": "fd5c2fcc-b64d-4de9-b806-c422a5a7a1cb"
   },
   "outputs": [
    {
     "name": "stdout",
     "output_type": "stream",
     "text": [
      "<class 'pandas.core.frame.DataFrame'>\n",
      "RangeIndex: 550068 entries, 0 to 550067\n",
      "Data columns (total 10 columns):\n",
      " #   Column                      Non-Null Count   Dtype \n",
      "---  ------                      --------------   ----- \n",
      " 0   User_ID                     550068 non-null  int64 \n",
      " 1   Product_ID                  550068 non-null  object\n",
      " 2   Gender                      550068 non-null  object\n",
      " 3   Age                         550068 non-null  object\n",
      " 4   Occupation                  550068 non-null  int64 \n",
      " 5   City_Category               550068 non-null  object\n",
      " 6   Stay_In_Current_City_Years  550068 non-null  object\n",
      " 7   Marital_Status              550068 non-null  int64 \n",
      " 8   Product_Category            550068 non-null  int64 \n",
      " 9   Purchase                    550068 non-null  int64 \n",
      "dtypes: int64(5), object(5)\n",
      "memory usage: 42.0+ MB\n"
     ]
    }
   ],
   "source": [
    "DMart.info()\n",
    "#there are 5 integer attributes and 5 object data type which are strings, there are a total of 550068 rows or orders data"
   ]
  },
  {
   "cell_type": "code",
   "execution_count": 5,
   "metadata": {
    "colab": {
     "base_uri": "https://localhost:8080/"
    },
    "id": "MKIg_hWPN96b",
    "outputId": "6f8c9ca0-53ad-44ff-bef6-4f02b91b0483"
   },
   "outputs": [
    {
     "data": {
      "text/plain": [
       "User_ID                       0\n",
       "Product_ID                    0\n",
       "Gender                        0\n",
       "Age                           0\n",
       "Occupation                    0\n",
       "City_Category                 0\n",
       "Stay_In_Current_City_Years    0\n",
       "Marital_Status                0\n",
       "Product_Category              0\n",
       "Purchase                      0\n",
       "dtype: int64"
      ]
     },
     "execution_count": 5,
     "metadata": {},
     "output_type": "execute_result"
    }
   ],
   "source": [
    "#Null values\n",
    "DMart.isnull().sum()\n",
    "# there is no null value in dataset, the dataset is clean, divided into bins for age attribute and it is ready for analysis"
   ]
  },
  {
   "cell_type": "code",
   "execution_count": 6,
   "metadata": {
    "colab": {
     "base_uri": "https://localhost:8080/"
    },
    "id": "NbPn0uY0tZKW",
    "outputId": "1827ff2a-a87c-41ed-e8eb-3435b18ce7e1"
   },
   "outputs": [
    {
     "name": "stdout",
     "output_type": "stream",
     "text": [
      "User_ID : 5891\n",
      "Product_ID : 3631\n",
      "Gender : 2\n",
      "Age : 7\n",
      "Occupation : 21\n",
      "City_Category : 3\n",
      "Stay_In_Current_City_Years : 5\n",
      "Marital_Status : 2\n",
      "Product_Category : 20\n",
      "Purchase : 18105\n"
     ]
    }
   ],
   "source": [
    "#unique values\n",
    "for i in DMart.columns:\n",
    "  print (i , \":\" , DMart[i].nunique())\n",
    "\n",
    "# There are 3631 products sold under 20 categories in 3 city types\n",
    "# These are 18105 orders placed by 5891 unique users"
   ]
  },
  {
   "cell_type": "code",
   "execution_count": 5,
   "metadata": {
    "colab": {
     "base_uri": "https://localhost:8080/"
    },
    "id": "YBmkPoPHmqTE",
    "outputId": "757a573c-37e4-468e-948d-b677c1a84525"
   },
   "outputs": [
    {
     "name": "stdout",
     "output_type": "stream",
     "text": [
      "<class 'pandas.core.frame.DataFrame'>\n",
      "RangeIndex: 550068 entries, 0 to 550067\n",
      "Data columns (total 10 columns):\n",
      " #   Column                      Non-Null Count   Dtype \n",
      "---  ------                      --------------   ----- \n",
      " 0   User_ID                     550068 non-null  int64 \n",
      " 1   Product_ID                  550068 non-null  object\n",
      " 2   Gender                      550068 non-null  object\n",
      " 3   Age                         550068 non-null  object\n",
      " 4   Occupation                  550068 non-null  object\n",
      " 5   City_Category               550068 non-null  object\n",
      " 6   Stay_In_Current_City_Years  550068 non-null  object\n",
      " 7   Marital_Status              550068 non-null  object\n",
      " 8   Product_Category            550068 non-null  object\n",
      " 9   Purchase                    550068 non-null  int64 \n",
      "dtypes: int64(2), object(8)\n",
      "memory usage: 42.0+ MB\n"
     ]
    }
   ],
   "source": [
    "DMart['Product_Category']=DMart['Product_Category'].astype('object')\n",
    "DMart['Occupation']=DMart['Occupation'].astype('object')\n",
    "DMart['Marital_Status']=DMart['Marital_Status'].astype('object')\n",
    "DMart.info()\n",
    "# we have converted categorical attributes - product category, occupation and marital status to object data type for analysis"
   ]
  },
  {
   "cell_type": "markdown",
   "metadata": {
    "id": "ujTUfmA5Sf0-"
   },
   "source": [
    "We see that the data is non null, we will now do outlier analysis using describe method and box plots\n",
    "\n",
    "Describe method shows that there are \n",
    "\n",
    "1.Unique Values: There are 3631 unique products, 7 unique age groups, 2 unique genders, 3 unique cities, 5 unique stay in current city years, 20 unique product categories and 21 unique occupations\n",
    "\n",
    "**There are 3631 products sold under 20 categories in 3 city types**\n",
    "\n",
    "**These are 18105 orders placed by 5891 unique users**\n",
    "\n",
    "2. The outliers can be checked only for purchase value variable, as it is the only appropriate variable for this analysis. \n",
    "here we see that there is a huge difference of around 3000 bucks in mean and median values. which means that the purchase value has a hige spread, which we will see in box plot.\n",
    "\n",
    "3. the top orders are from- Male in gender, 26-35 age group people,P00265242 is the highest selling product, most orders are from B city category, product category 5 is highest selling,most orders are from unmarried people, most  customers have occupation code 4. \n",
    "The count of these top buyers can be seen in describe 'freq' attribute\n",
    "\n",
    "4. We see that max purchase value is 23961 bucks and min purchase value is 12 bucks"
   ]
  },
  {
   "cell_type": "code",
   "execution_count": 8,
   "metadata": {
    "colab": {
     "base_uri": "https://localhost:8080/",
     "height": 394
    },
    "id": "Ce11U3IDOE_N",
    "outputId": "31108393-87f8-44a7-d840-5656879be396"
   },
   "outputs": [
    {
     "data": {
      "text/html": [
       "<div>\n",
       "<style scoped>\n",
       "    .dataframe tbody tr th:only-of-type {\n",
       "        vertical-align: middle;\n",
       "    }\n",
       "\n",
       "    .dataframe tbody tr th {\n",
       "        vertical-align: top;\n",
       "    }\n",
       "\n",
       "    .dataframe thead th {\n",
       "        text-align: right;\n",
       "    }\n",
       "</style>\n",
       "<table border=\"1\" class=\"dataframe\">\n",
       "  <thead>\n",
       "    <tr style=\"text-align: right;\">\n",
       "      <th></th>\n",
       "      <th>User_ID</th>\n",
       "      <th>Product_ID</th>\n",
       "      <th>Gender</th>\n",
       "      <th>Age</th>\n",
       "      <th>Occupation</th>\n",
       "      <th>City_Category</th>\n",
       "      <th>Stay_In_Current_City_Years</th>\n",
       "      <th>Marital_Status</th>\n",
       "      <th>Product_Category</th>\n",
       "      <th>Purchase</th>\n",
       "    </tr>\n",
       "  </thead>\n",
       "  <tbody>\n",
       "    <tr>\n",
       "      <th>count</th>\n",
       "      <td>5.500680e+05</td>\n",
       "      <td>550068</td>\n",
       "      <td>550068</td>\n",
       "      <td>550068</td>\n",
       "      <td>550068.0</td>\n",
       "      <td>550068</td>\n",
       "      <td>550068</td>\n",
       "      <td>550068.0</td>\n",
       "      <td>550068.0</td>\n",
       "      <td>550068.000000</td>\n",
       "    </tr>\n",
       "    <tr>\n",
       "      <th>unique</th>\n",
       "      <td>NaN</td>\n",
       "      <td>3631</td>\n",
       "      <td>2</td>\n",
       "      <td>7</td>\n",
       "      <td>21.0</td>\n",
       "      <td>3</td>\n",
       "      <td>5</td>\n",
       "      <td>2.0</td>\n",
       "      <td>20.0</td>\n",
       "      <td>NaN</td>\n",
       "    </tr>\n",
       "    <tr>\n",
       "      <th>top</th>\n",
       "      <td>NaN</td>\n",
       "      <td>P00265242</td>\n",
       "      <td>M</td>\n",
       "      <td>26-35</td>\n",
       "      <td>4.0</td>\n",
       "      <td>B</td>\n",
       "      <td>1</td>\n",
       "      <td>0.0</td>\n",
       "      <td>5.0</td>\n",
       "      <td>NaN</td>\n",
       "    </tr>\n",
       "    <tr>\n",
       "      <th>freq</th>\n",
       "      <td>NaN</td>\n",
       "      <td>1880</td>\n",
       "      <td>414259</td>\n",
       "      <td>219587</td>\n",
       "      <td>72308.0</td>\n",
       "      <td>231173</td>\n",
       "      <td>193821</td>\n",
       "      <td>324731.0</td>\n",
       "      <td>150933.0</td>\n",
       "      <td>NaN</td>\n",
       "    </tr>\n",
       "    <tr>\n",
       "      <th>mean</th>\n",
       "      <td>1.003029e+06</td>\n",
       "      <td>NaN</td>\n",
       "      <td>NaN</td>\n",
       "      <td>NaN</td>\n",
       "      <td>NaN</td>\n",
       "      <td>NaN</td>\n",
       "      <td>NaN</td>\n",
       "      <td>NaN</td>\n",
       "      <td>NaN</td>\n",
       "      <td>9263.968713</td>\n",
       "    </tr>\n",
       "    <tr>\n",
       "      <th>std</th>\n",
       "      <td>1.727592e+03</td>\n",
       "      <td>NaN</td>\n",
       "      <td>NaN</td>\n",
       "      <td>NaN</td>\n",
       "      <td>NaN</td>\n",
       "      <td>NaN</td>\n",
       "      <td>NaN</td>\n",
       "      <td>NaN</td>\n",
       "      <td>NaN</td>\n",
       "      <td>5023.065394</td>\n",
       "    </tr>\n",
       "    <tr>\n",
       "      <th>min</th>\n",
       "      <td>1.000001e+06</td>\n",
       "      <td>NaN</td>\n",
       "      <td>NaN</td>\n",
       "      <td>NaN</td>\n",
       "      <td>NaN</td>\n",
       "      <td>NaN</td>\n",
       "      <td>NaN</td>\n",
       "      <td>NaN</td>\n",
       "      <td>NaN</td>\n",
       "      <td>12.000000</td>\n",
       "    </tr>\n",
       "    <tr>\n",
       "      <th>25%</th>\n",
       "      <td>1.001516e+06</td>\n",
       "      <td>NaN</td>\n",
       "      <td>NaN</td>\n",
       "      <td>NaN</td>\n",
       "      <td>NaN</td>\n",
       "      <td>NaN</td>\n",
       "      <td>NaN</td>\n",
       "      <td>NaN</td>\n",
       "      <td>NaN</td>\n",
       "      <td>5823.000000</td>\n",
       "    </tr>\n",
       "    <tr>\n",
       "      <th>50%</th>\n",
       "      <td>1.003077e+06</td>\n",
       "      <td>NaN</td>\n",
       "      <td>NaN</td>\n",
       "      <td>NaN</td>\n",
       "      <td>NaN</td>\n",
       "      <td>NaN</td>\n",
       "      <td>NaN</td>\n",
       "      <td>NaN</td>\n",
       "      <td>NaN</td>\n",
       "      <td>8047.000000</td>\n",
       "    </tr>\n",
       "    <tr>\n",
       "      <th>75%</th>\n",
       "      <td>1.004478e+06</td>\n",
       "      <td>NaN</td>\n",
       "      <td>NaN</td>\n",
       "      <td>NaN</td>\n",
       "      <td>NaN</td>\n",
       "      <td>NaN</td>\n",
       "      <td>NaN</td>\n",
       "      <td>NaN</td>\n",
       "      <td>NaN</td>\n",
       "      <td>12054.000000</td>\n",
       "    </tr>\n",
       "    <tr>\n",
       "      <th>max</th>\n",
       "      <td>1.006040e+06</td>\n",
       "      <td>NaN</td>\n",
       "      <td>NaN</td>\n",
       "      <td>NaN</td>\n",
       "      <td>NaN</td>\n",
       "      <td>NaN</td>\n",
       "      <td>NaN</td>\n",
       "      <td>NaN</td>\n",
       "      <td>NaN</td>\n",
       "      <td>23961.000000</td>\n",
       "    </tr>\n",
       "  </tbody>\n",
       "</table>\n",
       "</div>"
      ],
      "text/plain": [
       "             User_ID Product_ID  Gender     Age  Occupation City_Category  \\\n",
       "count   5.500680e+05     550068  550068  550068    550068.0        550068   \n",
       "unique           NaN       3631       2       7        21.0             3   \n",
       "top              NaN  P00265242       M   26-35         4.0             B   \n",
       "freq             NaN       1880  414259  219587     72308.0        231173   \n",
       "mean    1.003029e+06        NaN     NaN     NaN         NaN           NaN   \n",
       "std     1.727592e+03        NaN     NaN     NaN         NaN           NaN   \n",
       "min     1.000001e+06        NaN     NaN     NaN         NaN           NaN   \n",
       "25%     1.001516e+06        NaN     NaN     NaN         NaN           NaN   \n",
       "50%     1.003077e+06        NaN     NaN     NaN         NaN           NaN   \n",
       "75%     1.004478e+06        NaN     NaN     NaN         NaN           NaN   \n",
       "max     1.006040e+06        NaN     NaN     NaN         NaN           NaN   \n",
       "\n",
       "       Stay_In_Current_City_Years  Marital_Status  Product_Category  \\\n",
       "count                      550068        550068.0          550068.0   \n",
       "unique                          5             2.0              20.0   \n",
       "top                             1             0.0               5.0   \n",
       "freq                       193821        324731.0          150933.0   \n",
       "mean                          NaN             NaN               NaN   \n",
       "std                           NaN             NaN               NaN   \n",
       "min                           NaN             NaN               NaN   \n",
       "25%                           NaN             NaN               NaN   \n",
       "50%                           NaN             NaN               NaN   \n",
       "75%                           NaN             NaN               NaN   \n",
       "max                           NaN             NaN               NaN   \n",
       "\n",
       "             Purchase  \n",
       "count   550068.000000  \n",
       "unique            NaN  \n",
       "top               NaN  \n",
       "freq              NaN  \n",
       "mean      9263.968713  \n",
       "std       5023.065394  \n",
       "min         12.000000  \n",
       "25%       5823.000000  \n",
       "50%       8047.000000  \n",
       "75%      12054.000000  \n",
       "max      23961.000000  "
      ]
     },
     "execution_count": 8,
     "metadata": {},
     "output_type": "execute_result"
    }
   ],
   "source": [
    "DMart.describe(include='all')"
   ]
  },
  {
   "cell_type": "code",
   "execution_count": 9,
   "metadata": {
    "colab": {
     "base_uri": "https://localhost:8080/"
    },
    "id": "grwbuDLopknZ",
    "outputId": "b74a1cd8-c4ab-43ff-fde4-84f77c37b52e"
   },
   "outputs": [
    {
     "data": {
      "text/plain": [
       "M    414259\n",
       "F    135809\n",
       "Name: Gender, dtype: int64"
      ]
     },
     "execution_count": 9,
     "metadata": {},
     "output_type": "execute_result"
    }
   ],
   "source": [
    "# Value Counts - we see that majority of orders are from males (75%)\n",
    "DMart['Gender'].value_counts()"
   ]
  },
  {
   "cell_type": "code",
   "execution_count": 10,
   "metadata": {
    "colab": {
     "base_uri": "https://localhost:8080/"
    },
    "id": "-lN70LxsGlEA",
    "outputId": "0f01a8d6-8f1e-4cf4-a6f9-6ac533cf2a70"
   },
   "outputs": [
    {
     "data": {
      "text/plain": [
       "M    0.753105\n",
       "F    0.246895\n",
       "Name: Gender, dtype: float64"
      ]
     },
     "execution_count": 10,
     "metadata": {},
     "output_type": "execute_result"
    }
   ],
   "source": [
    "DMart['Gender'].value_counts()/len(DMart)"
   ]
  },
  {
   "cell_type": "code",
   "execution_count": 11,
   "metadata": {
    "colab": {
     "base_uri": "https://localhost:8080/",
     "height": 112
    },
    "id": "Ra0GhZNpLTU5",
    "outputId": "38722f11-3415-4158-fe18-fe80aa8e1e8b"
   },
   "outputs": [
    {
     "data": {
      "text/html": [
       "<div>\n",
       "<style scoped>\n",
       "    .dataframe tbody tr th:only-of-type {\n",
       "        vertical-align: middle;\n",
       "    }\n",
       "\n",
       "    .dataframe tbody tr th {\n",
       "        vertical-align: top;\n",
       "    }\n",
       "\n",
       "    .dataframe thead th {\n",
       "        text-align: right;\n",
       "    }\n",
       "</style>\n",
       "<table border=\"1\" class=\"dataframe\">\n",
       "  <thead>\n",
       "    <tr style=\"text-align: right;\">\n",
       "      <th></th>\n",
       "      <th>Gender</th>\n",
       "      <th>User_ID</th>\n",
       "    </tr>\n",
       "  </thead>\n",
       "  <tbody>\n",
       "    <tr>\n",
       "      <th>0</th>\n",
       "      <td>F</td>\n",
       "      <td>1666</td>\n",
       "    </tr>\n",
       "    <tr>\n",
       "      <th>1</th>\n",
       "      <td>M</td>\n",
       "      <td>4225</td>\n",
       "    </tr>\n",
       "  </tbody>\n",
       "</table>\n",
       "</div>"
      ],
      "text/plain": [
       "  Gender  User_ID\n",
       "0      F     1666\n",
       "1      M     4225"
      ]
     },
     "execution_count": 11,
     "metadata": {},
     "output_type": "execute_result"
    }
   ],
   "source": [
    "pd.DataFrame(DMart.groupby('Gender')['User_ID'].nunique()).reset_index()\n",
    "#We find actual number of buyers by gender using unique user_id"
   ]
  },
  {
   "cell_type": "code",
   "execution_count": 12,
   "metadata": {
    "colab": {
     "base_uri": "https://localhost:8080/"
    },
    "id": "X1ORAW8KLuLF",
    "outputId": "20a12df5-6c98-4890-dd7b-283b4b051426"
   },
   "outputs": [
    {
     "data": {
      "text/plain": [
       "0.2828042777117637"
      ]
     },
     "execution_count": 12,
     "metadata": {},
     "output_type": "execute_result"
    }
   ],
   "source": [
    "F=1666/(1666+4225)\n",
    "F\n",
    "#Females buyers - 28%, Male buyers72%"
   ]
  },
  {
   "cell_type": "code",
   "execution_count": 13,
   "metadata": {
    "colab": {
     "base_uri": "https://localhost:8080/"
    },
    "id": "dwSfItmmpzAK",
    "outputId": "d7f883ef-8779-4444-8b87-6a92f98fa5fb"
   },
   "outputs": [
    {
     "data": {
      "text/plain": [
       "0    324731\n",
       "1    225337\n",
       "Name: Marital_Status, dtype: int64"
      ]
     },
     "execution_count": 13,
     "metadata": {},
     "output_type": "execute_result"
    }
   ],
   "source": [
    "# Value Counts - we see that majority of orders are from unmarried (60%)\n",
    "DMart['Marital_Status'].value_counts()"
   ]
  },
  {
   "cell_type": "code",
   "execution_count": 14,
   "metadata": {
    "colab": {
     "base_uri": "https://localhost:8080/"
    },
    "id": "68dLaxEl_lKv",
    "outputId": "85958282-82bd-48d2-9de8-d5f208923882"
   },
   "outputs": [
    {
     "data": {
      "text/plain": [
       "B    231173\n",
       "C    171175\n",
       "A    147720\n",
       "Name: City_Category, dtype: int64"
      ]
     },
     "execution_count": 14,
     "metadata": {},
     "output_type": "execute_result"
    }
   ],
   "source": [
    "# Value Counts - we see that majority of orders are from city category B - 42% on black friday\n",
    "DMart['City_Category'].value_counts()"
   ]
  },
  {
   "cell_type": "code",
   "execution_count": 9,
   "metadata": {
    "id": "JVMuvFdiW7YT"
   },
   "outputs": [],
   "source": [
    "import matplotlib.pyplot as plt\n",
    "import seaborn as sns"
   ]
  },
  {
   "cell_type": "code",
   "execution_count": null,
   "metadata": {
    "colab": {
     "base_uri": "https://localhost:8080/",
     "height": 449
    },
    "id": "xP39UmBiu1M7",
    "outputId": "1e341953-7dd2-438b-e6d6-a0870f9dc271"
   },
   "outputs": [
    {
     "data": {
      "image/png": "[encoded data removed]",
      "text/plain": [
       "<Figure size 640x480 with 1 Axes>"
      ]
     },
     "metadata": {},
     "output_type": "display_data"
    }
   ],
   "source": [
    "#Univariate Analysis\n",
    "\n",
    "sns.histplot(data=DMart,x='Purchase',kde=True)\n",
    "\n",
    "#used histplot instead of distplot as it is deprecated\n",
    "#maximum orders have purchase value in range 5000-10000 bucks"
   ]
  },
  {
   "cell_type": "code",
   "execution_count": null,
   "metadata": {
    "colab": {
     "base_uri": "https://localhost:8080/",
     "height": 466
    },
    "id": "Bbd3fcYqCUyf",
    "outputId": "7a350414-ccdb-4639-8bf7-1c32363f607d"
   },
   "outputs": [
    {
     "data": {
      "text/plain": [
       "<Axes: xlabel='Age', ylabel='User_ID'>"
      ]
     },
     "execution_count": 186,
     "metadata": {},
     "output_type": "execute_result"
    },
    {
     "data": {
      "image/png": "[encoded data removed]",
      "text/plain": [
       "<Figure size 640x480 with 1 Axes>"
      ]
     },
     "metadata": {},
     "output_type": "display_data"
    }
   ],
   "source": [
    "age=pd.DataFrame(DMart.groupby('Age')['User_ID'].nunique()).reset_index()\n",
    "sns.barplot(data=age,x='Age',y='User_ID')\n",
    "\n",
    "# here we have considered unique user_ID values to avoid errors due to duplicacy\n",
    "# maximum buyers are in age group of 26-35\n",
    "# in total there are 5891 customers"
   ]
  },
  {
   "cell_type": "code",
   "execution_count": null,
   "metadata": {
    "colab": {
     "base_uri": "https://localhost:8080/",
     "height": 466
    },
    "id": "69nSQx6AOVYu",
    "outputId": "907e4c5e-6f34-40fc-e2f1-6e83149409e9"
   },
   "outputs": [
    {
     "data": {
      "text/plain": [
       "<Axes: xlabel='Age', ylabel='count'>"
      ]
     },
     "execution_count": 199,
     "metadata": {},
     "output_type": "execute_result"
    },
    {
     "data": {
      "image/png": "[encoded data removed]",
      "text/plain": [
       "<Figure size 640x480 with 1 Axes>"
      ]
     },
     "metadata": {},
     "output_type": "display_data"
    }
   ],
   "source": [
    "sns.countplot(data=DMart,x='Age')\n",
    "#maximum orders are also in age group of 26-35"
   ]
  },
  {
   "cell_type": "code",
   "execution_count": null,
   "metadata": {
    "colab": {
     "base_uri": "https://localhost:8080/"
    },
    "id": "xsNxregQ4fQA",
    "outputId": "b9b648ef-e11d-40cb-d725-00ddae9cbd9f"
   },
   "outputs": [
    {
     "data": {
      "text/plain": [
       "5     150933\n",
       "1     140378\n",
       "8     113925\n",
       "11     24287\n",
       "2      23864\n",
       "Name: Product_Category, dtype: int64"
      ]
     },
     "execution_count": 101,
     "metadata": {},
     "output_type": "execute_result"
    }
   ],
   "source": [
    "DMart.Product_Category.value_counts()[:5]\n",
    "# these are top 5 product categories"
   ]
  },
  {
   "cell_type": "code",
   "execution_count": null,
   "metadata": {
    "colab": {
     "base_uri": "https://localhost:8080/"
    },
    "id": "VMtKBSQ25k4R",
    "outputId": "82b2c51d-f5ee-4d0a-934e-e58aea7b629d"
   },
   "outputs": [
    {
     "data": {
      "text/plain": [
       "array([ 3,  1, 12,  8,  5,  4,  2,  6, 14, 11, 13, 15,  7, 16, 18, 10, 17,\n",
       "        9, 20, 19])"
      ]
     },
     "execution_count": 102,
     "metadata": {},
     "output_type": "execute_result"
    }
   ],
   "source": [
    "DMart.Product_Category.unique()"
   ]
  },
  {
   "cell_type": "code",
   "execution_count": 15,
   "metadata": {
    "colab": {
     "base_uri": "https://localhost:8080/",
     "height": 466
    },
    "id": "3iTNMf3n24Om",
    "outputId": "7661c7b6-c2de-4699-d52f-0c94939706ea"
   },
   "outputs": [
    {
     "data": {
      "text/plain": [
       "<Axes: xlabel='count', ylabel='Product_Category'>"
      ]
     },
     "execution_count": 15,
     "metadata": {},
     "output_type": "execute_result"
    },
    {
     "data": {
      "image/png": "[encoded data removed]",
      "text/plain": [
       "<Figure size 640x480 with 1 Axes>"
      ]
     },
     "metadata": {},
     "output_type": "display_data"
    }
   ],
   "source": [
    "import seaborn as sns\n",
    "sns.countplot(data=DMart,y='Product_Category',order=DMart['Product_Category'].value_counts().index[0:10])\n",
    "\n",
    "# 5,1 and 8 are top selling product categories on black friday"
   ]
  },
  {
   "cell_type": "code",
   "execution_count": null,
   "metadata": {
    "colab": {
     "base_uri": "https://localhost:8080/",
     "height": 1000
    },
    "id": "Xyb2srsEdcBd",
    "outputId": "c1b7d77b-19a7-4118-e2f0-8801dfbb5844"
   },
   "outputs": [
    {
     "data": {
      "image/png": "[encoded data removed]",
      "text/plain": [
       "<Figure size 1600x1200 with 6 Axes>"
      ]
     },
     "metadata": {},
     "output_type": "display_data"
    }
   ],
   "source": [
    "#Bivariate and Outlier Analysis of purchase values wrt different attributes\n",
    "\n",
    "plt.figure(figsize=(16,12))\n",
    "\n",
    "plt.subplot(2,3,1)\n",
    "sns.boxplot(data=DMart,y='Purchase',x='Gender')\n",
    "plt.title(\"1. Outlier of purchase wrt Gender\")\n",
    "\n",
    "plt.subplot(2,3,2)\n",
    "sns.boxplot(data=DMart,y='Purchase',x='Age')\n",
    "plt.title(\"2. Outlier of Purchase wrt Age\")\n",
    "\n",
    "plt.subplot(2,3,3)\n",
    "sns.boxplot(data=DMart,y='Purchase',x='Gender',hue='Age')\n",
    "plt.title(\"3. Outlier of Purchase wrt Gender and Age\")\n",
    "\n",
    "plt.subplot(2,3,4)\n",
    "sns.boxplot(data=DMart,y='Purchase',x='Marital_Status')\n",
    "plt.title(\"4. Outlier of purchase wrt marital status\")\n",
    "\n",
    "plt.subplot(2,3,5)\n",
    "sns.boxplot(data=DMart,y='Purchase',x='Marital_Status',hue='Gender')\n",
    "plt.title(\"5. Outlier of Purchase wrt Marital_Status and gender\")\n",
    "\n",
    "plt.subplot(2,3,6)\n",
    "sns.boxplot(data=DMart,y='Purchase',x='City_Category',hue='Gender')\n",
    "plt.title(\"6. Outlier of purchase wrt City_Category\")\n",
    "\n",
    "plt.show()"
   ]
  },
  {
   "cell_type": "markdown",
   "metadata": {
    "id": "SYwggMg_smxG"
   },
   "source": [
    "#Insights and recommendations:\n",
    "\n",
    "1. The box plot of purchase value verses gender shows that outliers for female lie above 20000 and those for male lie above 23000 bucks. \n",
    "Also more males have comparatively higher purchase value than females as shown by 75th percentile for male 13000 and that for females 12000 bucks\n",
    "\n",
    "2. There is not much difference in outlier of purchase value across age groups\n",
    "\n",
    "3. Outliers of purchase value wrt age groups and gender shows that females have lower IQR by 3000-4000 bucks in all age groups compared to male. And the difference between IQR in both genders is largest in 18-25 and 55+ age groups. This means females in age groups 18-25 and 55+ have much lesser purchase value compared to males in same age group.\n",
    "\n",
    "4. The purchase value outliers across marital status does not change much. married and unmarried people both have similar buying habits\n",
    "\n",
    "5. The purchase value outliers across marital status and gender does not change much. married and unmarried people both have similar buying habits wrt gender\n",
    "\n",
    "6. Males in city category C are high value purchasers forllowed by females in city category C"
   ]
  },
  {
   "cell_type": "code",
   "execution_count": null,
   "metadata": {
    "id": "JZEtGPeEmnlj"
   },
   "outputs": [],
   "source": [
    "#sns.heatmap(DMart.corr(),annot=True)"
   ]
  },
  {
   "cell_type": "markdown",
   "metadata": {
    "id": "IPWaMEjKoVkr"
   },
   "source": [
    "# Gender based analysis\n",
    "\n",
    "We bifurcate dataset into female and male orders"
   ]
  },
  {
   "cell_type": "code",
   "execution_count": 12,
   "metadata": {
    "colab": {
     "base_uri": "https://localhost:8080/"
    },
    "id": "VqjI9Unuqy4z",
    "outputId": "076e4fac-47e8-49bd-86cc-eb7c551c1bd4"
   },
   "outputs": [
    {
     "data": {
      "text/plain": [
       "135809"
      ]
     },
     "execution_count": 12,
     "metadata": {},
     "output_type": "execute_result"
    }
   ],
   "source": [
    "female=DMart.loc[DMart['Gender']=='F']\n",
    "len(female)"
   ]
  },
  {
   "cell_type": "code",
   "execution_count": 13,
   "metadata": {
    "colab": {
     "base_uri": "https://localhost:8080/"
    },
    "id": "rg7viouFoluH",
    "outputId": "8820dced-91fc-44f9-e157-9e5a14d59600"
   },
   "outputs": [
    {
     "data": {
      "text/plain": [
       "414259"
      ]
     },
     "execution_count": 13,
     "metadata": {},
     "output_type": "execute_result"
    }
   ],
   "source": [
    "male=DMart.loc[DMart['Gender']=='M']\n",
    "len(male)"
   ]
  },
  {
   "cell_type": "code",
   "execution_count": 14,
   "metadata": {
    "colab": {
     "base_uri": "https://localhost:8080/"
    },
    "id": "pgDbc0Tso0Nh",
    "outputId": "7cef9478-5cf3-46a2-8a15-4e940df5ab0a"
   },
   "outputs": [
    {
     "data": {
      "text/plain": [
       "8734.565765155476"
      ]
     },
     "execution_count": 14,
     "metadata": {},
     "output_type": "execute_result"
    }
   ],
   "source": [
    "import numpy as np\n",
    "np.mean(female['Purchase'])"
   ]
  },
  {
   "cell_type": "code",
   "execution_count": 15,
   "metadata": {
    "colab": {
     "base_uri": "https://localhost:8080/"
    },
    "id": "3gr98jexpItF",
    "outputId": "4cf98657-a5b1-4c33-f8b4-ba64109d2138"
   },
   "outputs": [
    {
     "data": {
      "text/plain": [
       "9437.526040472265"
      ]
     },
     "execution_count": 15,
     "metadata": {},
     "output_type": "execute_result"
    }
   ],
   "source": [
    "np.mean(male['Purchase'])"
   ]
  },
  {
   "cell_type": "markdown",
   "metadata": {
    "id": "hHosrTylDtFD"
   },
   "source": [
    "**These population mean show that Males are spending more than females**\n",
    "\n",
    "we can see that men are spending more money per transaction than women in given population dataset"
   ]
  },
  {
   "cell_type": "code",
   "execution_count": 19,
   "metadata": {
    "colab": {
     "base_uri": "https://localhost:8080/"
    },
    "id": "cAoRr42Epqeq",
    "outputId": "c1d5f0d7-569b-4aa8-a2c2-5d71d531a339"
   },
   "outputs": [
    {
     "name": "stdout",
     "output_type": "stream",
     "text": [
      "8735.926666666666 9544.84\n"
     ]
    }
   ],
   "source": [
    "#getting a bootstrap male and female sample\n",
    "n=300\n",
    "bootstrapped_female=np.random.choice(female['Purchase'],size=n)\n",
    "bootstrapped_male=np.random.choice(male['Purchase'],size=n)\n",
    "fmean=np.mean(bootstrapped_female)\n",
    "mmean=np.mean(bootstrapped_male)\n",
    "print(fmean,mmean)"
   ]
  },
  {
   "cell_type": "code",
   "execution_count": 20,
   "metadata": {
    "colab": {
     "base_uri": "https://localhost:8080/",
     "height": 469
    },
    "id": "-XBVFwBXqGsf",
    "outputId": "2c47529e-0fab-440e-8214-5e0990c66594"
   },
   "outputs": [
    {
     "data": {
      "text/plain": [
       "Text(0.5, 1.0, 'distribution of mean purchase by female')"
      ]
     },
     "execution_count": 20,
     "metadata": {},
     "output_type": "execute_result"
    },
    {
     "data": {
      "image/png": "[encoded data removed]",
      "text/plain": [
       "<Figure size 640x480 with 1 Axes>"
      ]
     },
     "metadata": {},
     "output_type": "display_data"
    }
   ],
   "source": [
    "#getting bootstrapped samples, means with repetition\n",
    "\n",
    "bootstrapped_mean_female=[]\n",
    "bootstrapped_mean_male=[]\n",
    "n=1000\n",
    "\n",
    "for i in range(10000):\n",
    "  bootstrapped_female=np.random.choice(female['Purchase'],size=n)\n",
    "  bootstrapped_male=np.random.choice(male['Purchase'],size=n)\n",
    "\n",
    "  fmean=np.mean(bootstrapped_female)\n",
    "  mmean=np.mean(bootstrapped_male)\n",
    "\n",
    "  bootstrapped_mean_female.append(fmean)\n",
    "  bootstrapped_mean_male.append(mmean)\n",
    "\n",
    "import matplotlib.pyplot as plt\n",
    "sns.histplot(bootstrapped_mean_female)\n",
    "plt.title('distribution of mean purchase by female')"
   ]
  },
  {
   "cell_type": "code",
   "execution_count": 21,
   "metadata": {
    "colab": {
     "base_uri": "https://localhost:8080/",
     "height": 469
    },
    "id": "a40RiKvtqgv_",
    "outputId": "eacd6545-e25a-4f54-aab5-640c9ed64989"
   },
   "outputs": [
    {
     "data": {
      "text/plain": [
       "Text(0.5, 1.0, 'distribution of mean purchase by male')"
      ]
     },
     "execution_count": 21,
     "metadata": {},
     "output_type": "execute_result"
    },
    {
     "data": {
      "image/png": "[encoded data removed]",
      "text/plain": [
       "<Figure size 640x480 with 1 Axes>"
      ]
     },
     "metadata": {},
     "output_type": "display_data"
    }
   ],
   "source": [
    "sns.histplot(bootstrapped_mean_male)\n",
    "plt.title('distribution of mean purchase by male')"
   ]
  },
  {
   "cell_type": "code",
   "execution_count": 26,
   "metadata": {
    "colab": {
     "base_uri": "https://localhost:8080/"
    },
    "id": "DmH4e-s0qqao",
    "outputId": "d6decc0f-751a-45ae-f37f-25ff41cb72fa"
   },
   "outputs": [
    {
     "name": "stdout",
     "output_type": "stream",
     "text": [
      "8733.9668406 9437.102903199999\n",
      "153.18439250878592 159.33416373428213\n",
      "275.23532896291283 5092.180063635943\n"
     ]
    }
   ],
   "source": [
    "#computing mean and standard deviation of bootstrapped sample\n",
    "\n",
    "mu_f=np.mean(bootstrapped_mean_female)\n",
    "mu_m=np.mean(bootstrapped_mean_male)\n",
    "\n",
    "sigma_f=np.std(bootstrapped_mean_female)\n",
    "sigma_m=np.std(bootstrapped_mean_male)\n",
    "\n",
    "print(mu_f,mu_m)\n",
    "print(sigma_f,sigma_m)\n",
    "#print(np.std(female['Purchase'])/300**0.5,np.std(male['Purchase']))\n"
   ]
  },
  {
   "cell_type": "code",
   "execution_count": 62,
   "metadata": {
    "colab": {
     "base_uri": "https://localhost:8080/"
    },
    "id": "yunWw-ygFrdd",
    "outputId": "844db019-e227-4297-b5e6-5c335c34aa9c"
   },
   "outputs": [
    {
     "name": "stdout",
     "output_type": "stream",
     "text": [
      "We can say with 95% confidence that the mean expenses of women lies in range :\n",
      "8439.924671260584 9033.294939739413\n"
     ]
    }
   ],
   "source": [
    "from scipy.stats import norm\n",
    "#computing range for 95% CI\n",
    "\n",
    "alpha=0.05\n",
    "\n",
    "#getting left and right Z scores\n",
    "\n",
    "zleft=norm.ppf(0.025)\n",
    "zright=norm.ppf(0.975)\n",
    "\n",
    "#getting x value for these z values\n",
    "xleft=(zleft*sigma_f)+mu_f\n",
    "xright=(zright*sigma_f)+mu_f\n",
    "\n",
    "print(\"We can say with 95% confidence that the mean expenses of women lies in range :\")\n",
    "print(xleft,xright)"
   ]
  },
  {
   "cell_type": "code",
   "execution_count": 63,
   "metadata": {
    "colab": {
     "base_uri": "https://localhost:8080/"
    },
    "id": "CnZqAty5HQv7",
    "outputId": "2f2f1761-1bef-4a3c-dabf-6ed523c38e16"
   },
   "outputs": [
    {
     "name": "stdout",
     "output_type": "stream",
     "text": [
      "We can say with 95% confidence that the mean expenses of men lies in range :\n",
      "9120.227574999999 9750.9277\n"
     ]
    }
   ],
   "source": [
    "xleft_m=np.percentile(bootstrapped_mean_male,2.5)\n",
    "xright_m=np.percentile(bootstrapped_mean_male,97.5)\n",
    "\n",
    "print(\"We can say with 95% confidence that the mean expenses of men lies in range :\")\n",
    "print(xleft_m,xright_m)"
   ]
  },
  {
   "cell_type": "markdown",
   "metadata": {
    "id": "7XH4LAMqKF5J"
   },
   "source": [
    "# CI 90%"
   ]
  },
  {
   "cell_type": "code",
   "execution_count": 64,
   "metadata": {
    "colab": {
     "base_uri": "https://localhost:8080/"
    },
    "id": "Or2cC2IXPJDr",
    "outputId": "001b8b6d-aac6-4df3-845a-a87e0a9199ef"
   },
   "outputs": [
    {
     "data": {
      "text/plain": [
       "array([8271.120672, 8986.32305 ])"
      ]
     },
     "execution_count": 64,
     "metadata": {},
     "output_type": "execute_result"
    }
   ],
   "source": [
    "np.percentile(bootstrapped_mean_female,[0.05,95])"
   ]
  },
  {
   "cell_type": "code",
   "execution_count": 65,
   "metadata": {
    "colab": {
     "base_uri": "https://localhost:8080/"
    },
    "id": "9IEZe3b7Pgzj",
    "outputId": "bbfd23cf-992b-43b7-e31a-4202577528d3"
   },
   "outputs": [
    {
     "data": {
      "text/plain": [
       "array([8921.478766, 9697.6367  ])"
      ]
     },
     "execution_count": 65,
     "metadata": {},
     "output_type": "execute_result"
    }
   ],
   "source": [
    "np.percentile(bootstrapped_mean_male,[0.05,95])"
   ]
  },
  {
   "cell_type": "code",
   "execution_count": 128,
   "metadata": {
    "colab": {
     "base_uri": "https://localhost:8080/"
    },
    "id": "wYBhrL12Rk9K",
    "outputId": "389fbb1b-c1b8-4266-e64c-dd0ef4d7f527"
   },
   "outputs": [
    {
     "data": {
      "text/plain": [
       "64.8442840000007"
      ]
     },
     "execution_count": 128,
     "metadata": {},
     "output_type": "execute_result"
    }
   ],
   "source": [
    "#overlap in interval\n",
    "np.percentile(bootstrapped_mean_female,95)-np.percentile(bootstrapped_mean_male,0.05)"
   ]
  },
  {
   "cell_type": "markdown",
   "metadata": {
    "id": "-Vk6FZibPoU9"
   },
   "source": [
    "# CI 95%"
   ]
  },
  {
   "cell_type": "code",
   "execution_count": 66,
   "metadata": {
    "colab": {
     "base_uri": "https://localhost:8080/"
    },
    "id": "G2I8_kHgLPPp",
    "outputId": "d070c827-61fd-47a3-bc3e-e2e146b8fa53"
   },
   "outputs": [
    {
     "data": {
      "text/plain": [
       "array([8244.7550775, 9033.67965  ])"
      ]
     },
     "execution_count": 66,
     "metadata": {},
     "output_type": "execute_result"
    }
   ],
   "source": [
    "np.percentile(bootstrapped_mean_female,[0.025,97.5])"
   ]
  },
  {
   "cell_type": "code",
   "execution_count": 67,
   "metadata": {
    "colab": {
     "base_uri": "https://localhost:8080/"
    },
    "id": "OqZ-6ZkMPvaD",
    "outputId": "df8e84df-8338-4475-cea2-73b63d6a6fde"
   },
   "outputs": [
    {
     "data": {
      "text/plain": [
       "array([8882.20410075, 9750.9277    ])"
      ]
     },
     "execution_count": 67,
     "metadata": {},
     "output_type": "execute_result"
    }
   ],
   "source": [
    "np.percentile(bootstrapped_mean_male,[0.025,97.5])"
   ]
  },
  {
   "cell_type": "code",
   "execution_count": 125,
   "metadata": {
    "colab": {
     "base_uri": "https://localhost:8080/"
    },
    "id": "8DpsqqJhR6OT",
    "outputId": "6aabb317-b9de-45f0-da49-cb595f44d6fe"
   },
   "outputs": [
    {
     "data": {
      "text/plain": [
       "151.47554924999895"
      ]
     },
     "execution_count": 125,
     "metadata": {},
     "output_type": "execute_result"
    }
   ],
   "source": [
    "#overlap in interval\n",
    "np.percentile(bootstrapped_mean_female,97.5)-np.percentile(bootstrapped_mean_male,0.025)"
   ]
  },
  {
   "cell_type": "markdown",
   "metadata": {
    "id": "VIJ1tePgPy93"
   },
   "source": [
    "# CI 99%"
   ]
  },
  {
   "cell_type": "code",
   "execution_count": 68,
   "metadata": {
    "colab": {
     "base_uri": "https://localhost:8080/"
    },
    "id": "rikyF1D3PxfR",
    "outputId": "35d491e1-6d8e-471c-e4f8-a503fe0d3d09"
   },
   "outputs": [
    {
     "data": {
      "text/plain": [
       "array([8121.55925815, 9129.443755  ])"
      ]
     },
     "execution_count": 68,
     "metadata": {},
     "output_type": "execute_result"
    }
   ],
   "source": [
    "np.percentile(bootstrapped_mean_female,[0.005,99.5])"
   ]
  },
  {
   "cell_type": "code",
   "execution_count": 69,
   "metadata": {
    "colab": {
     "base_uri": "https://localhost:8080/"
    },
    "id": "O_pPYls6P3g0",
    "outputId": "d8a44a9b-375f-402d-95f2-d528eb5b68ae"
   },
   "outputs": [
    {
     "data": {
      "text/plain": [
       "array([8815.1331379, 9850.7366   ])"
      ]
     },
     "execution_count": 69,
     "metadata": {},
     "output_type": "execute_result"
    }
   ],
   "source": [
    "np.percentile(bootstrapped_mean_male,[0.005,99.5])"
   ]
  },
  {
   "cell_type": "code",
   "execution_count": 127,
   "metadata": {
    "colab": {
     "base_uri": "https://localhost:8080/"
    },
    "id": "vruOAmT1QDNY",
    "outputId": "822d641c-ebed-46b6-87e3-3fd0b2b787a9"
   },
   "outputs": [
    {
     "data": {
      "text/plain": [
       "314.31061709999994"
      ]
     },
     "execution_count": 127,
     "metadata": {},
     "output_type": "execute_result"
    }
   ],
   "source": [
    "#overlap in interval\n",
    "np.percentile(bootstrapped_mean_female,99.5)-np.percentile(bootstrapped_mean_male,0.005)"
   ]
  },
  {
   "cell_type": "markdown",
   "metadata": {
    "id": "UnBJueYjfeHR"
   },
   "source": [
    "# Insights and recommendations\n",
    "\n",
    "1. The overlapping region is almost nil. So wallmart needs to devise separate strategy for female purchase values and separate startegy for male purchase values"
   ]
  },
  {
   "cell_type": "markdown",
   "metadata": {
    "id": "uURBFNMqXdSX"
   },
   "source": [
    "# Central Limit Theorm"
   ]
  },
  {
   "cell_type": "code",
   "execution_count": 129,
   "metadata": {
    "colab": {
     "base_uri": "https://localhost:8080/",
     "height": 430
    },
    "id": "oV9SESstc9Gx",
    "outputId": "22dcdfbb-ff11-41b4-a60e-9cbb61f05cba"
   },
   "outputs": [
    {
     "data": {
      "image/png": "[encoded data removed]",
      "text/plain": [
       "<Figure size 640x480 with 1 Axes>"
      ]
     },
     "metadata": {},
     "output_type": "display_data"
    }
   ],
   "source": [
    "#variation due to sample size\n",
    "\n",
    "sample_mean_col=[]\n",
    "for person in range(20):\n",
    "  for sample_size in range(300,2000):\n",
    "    sample_mean=female['Purchase'].sample(sample_size).mean()\n",
    "    sample_mean_col.append(sample_mean)\n",
    "  plt.plot(sample_mean_col)\n",
    "  sample_mean_col=[]"
   ]
  },
  {
   "cell_type": "code",
   "execution_count": 135,
   "metadata": {
    "colab": {
     "base_uri": "https://localhost:8080/",
     "height": 447
    },
    "id": "94NFNkLNSAW-",
    "outputId": "fe9597f0-f1f3-48b8-9a49-42c4efcb4cc1"
   },
   "outputs": [
    {
     "data": {
      "text/plain": [
       "<Axes: ylabel='Count'>"
      ]
     },
     "execution_count": 135,
     "metadata": {},
     "output_type": "execute_result"
    },
    {
     "data": {
      "image/png": "[encoded data removed]",
      "text/plain": [
       "<Figure size 640x480 with 1 Axes>"
      ]
     },
     "metadata": {},
     "output_type": "display_data"
    }
   ],
   "source": [
    "#Female mean\n",
    "sample_size=2000\n",
    "sample_mean_coll=[]\n",
    "for person in range(10000):\n",
    "  sample_mean=female['Purchase'].sample(sample_size).mean()\n",
    "  sample_mean_coll.append(sample_mean)\n",
    "sns.histplot(sample_mean_coll)"
   ]
  },
  {
   "cell_type": "code",
   "execution_count": null,
   "metadata": {
    "id": "rzrPgdvvjeCT"
   },
   "outputs": [],
   "source": []
  },
  {
   "cell_type": "code",
   "execution_count": 136,
   "metadata": {
    "colab": {
     "base_uri": "https://localhost:8080/",
     "height": 447
    },
    "id": "7rFdDvHEX-Vp",
    "outputId": "821af31a-d280-45db-90c0-cc7c7e794051"
   },
   "outputs": [
    {
     "data": {
      "text/plain": [
       "<Axes: ylabel='Count'>"
      ]
     },
     "execution_count": 136,
     "metadata": {},
     "output_type": "execute_result"
    },
    {
     "data": {
      "image/png": "[encoded data removed]",
      "text/plain": [
       "<Figure size 640x480 with 1 Axes>"
      ]
     },
     "metadata": {},
     "output_type": "display_data"
    }
   ],
   "source": [
    "#Male\n",
    "sample_size=2000\n",
    "sample_mean_coll_m=[]\n",
    "for person in range(10000):\n",
    "  sample_mean=male['Purchase'].sample(sample_size).mean()\n",
    "  sample_mean_coll_m.append(sample_mean)\n",
    "sns.histplot(sample_mean_coll_m)"
   ]
  },
  {
   "cell_type": "code",
   "execution_count": 140,
   "metadata": {
    "colab": {
     "base_uri": "https://localhost:8080/"
    },
    "id": "QXmx7xvZjbj8",
    "outputId": "4e572d68-b4b8-406a-a247-a56de513bc8f"
   },
   "outputs": [
    {
     "name": "stdout",
     "output_type": "stream",
     "text": [
      "We can say with 90% confidence that the mean expenses of women lies in range :\n",
      "8559.227354694782 8909.90417561617\n"
     ]
    }
   ],
   "source": [
    "population_mean=np.mean(female['Purchase'])\n",
    "sigma=np.std(female['Purchase'])\n",
    "\n",
    "alpha=0.1\n",
    "\n",
    "#getting left and right Z scores\n",
    "\n",
    "zleft=norm.ppf(0.05)\n",
    "zright=norm.ppf(0.95)\n",
    "\n",
    "#getting x value for these z values\n",
    "xleft=(zleft*sigma/(2000**0.5))+population_mean\n",
    "xright=(zright*sigma/(2000**0.5))+population_mean\n",
    "\n",
    "print(\"We can say with 90% confidence that the mean expenses of women lies in range :\")\n",
    "print(xleft,xright)"
   ]
  },
  {
   "cell_type": "markdown",
   "metadata": {
    "id": "hnvIEsJEYO_V"
   },
   "source": []
  },
  {
   "cell_type": "markdown",
   "metadata": {
    "id": "uBD-Qx3DYPb_"
   },
   "source": [
    "#CI 90%"
   ]
  },
  {
   "cell_type": "code",
   "execution_count": 141,
   "metadata": {
    "colab": {
     "base_uri": "https://localhost:8080/"
    },
    "id": "LbN2ULhsYKEN",
    "outputId": "65b75e93-59c8-482c-8870-e9d6a70d4431"
   },
   "outputs": [
    {
     "data": {
      "text/plain": [
       "array([8396.63021025, 8910.51975   ])"
      ]
     },
     "execution_count": 141,
     "metadata": {},
     "output_type": "execute_result"
    }
   ],
   "source": [
    "np.percentile(sample_mean_coll,[0.05,95])"
   ]
  },
  {
   "cell_type": "code",
   "execution_count": 142,
   "metadata": {
    "colab": {
     "base_uri": "https://localhost:8080/"
    },
    "id": "wSSz5HWfYh1b",
    "outputId": "e506aae6-10e9-4f2a-a63f-4edf5504509b"
   },
   "outputs": [
    {
     "data": {
      "text/plain": [
       "array([9071.91500125, 9627.3889    ])"
      ]
     },
     "execution_count": 142,
     "metadata": {},
     "output_type": "execute_result"
    }
   ],
   "source": [
    "np.percentile(sample_mean_coll_m,[0.05,95])"
   ]
  },
  {
   "cell_type": "code",
   "execution_count": 143,
   "metadata": {
    "colab": {
     "base_uri": "https://localhost:8080/"
    },
    "id": "DZtF8p5NdyBJ",
    "outputId": "eb257668-01f2-4c34-f0b6-191cf3c5b7ab"
   },
   "outputs": [
    {
     "data": {
      "text/plain": [
       "-161.39525125000182"
      ]
     },
     "execution_count": 143,
     "metadata": {},
     "output_type": "execute_result"
    }
   ],
   "source": [
    "#overlap in interval\n",
    "np.percentile(sample_mean_coll,95)-np.percentile(sample_mean_coll_m,0.05)"
   ]
  },
  {
   "cell_type": "markdown",
   "metadata": {
    "id": "2LApEJcEY5n3"
   },
   "source": [
    "#CI 95%"
   ]
  },
  {
   "cell_type": "code",
   "execution_count": 144,
   "metadata": {
    "colab": {
     "base_uri": "https://localhost:8080/"
    },
    "id": "DM00-pb-YzyN",
    "outputId": "6b56247d-17e2-4e89-b42f-6adbb9775d29"
   },
   "outputs": [
    {
     "data": {
      "text/plain": [
       "array([8391.02916875, 8942.4926375 ])"
      ]
     },
     "execution_count": 144,
     "metadata": {},
     "output_type": "execute_result"
    }
   ],
   "source": [
    "np.percentile(sample_mean_coll,[0.025,97.5])"
   ]
  },
  {
   "cell_type": "code",
   "execution_count": 145,
   "metadata": {
    "colab": {
     "base_uri": "https://localhost:8080/"
    },
    "id": "ypm7HVEQZQJo",
    "outputId": "1efeb548-a4c0-4334-b7de-ddd635f5c566"
   },
   "outputs": [
    {
     "data": {
      "text/plain": [
       "array([9026.82740488, 9663.3420375 ])"
      ]
     },
     "execution_count": 145,
     "metadata": {},
     "output_type": "execute_result"
    }
   ],
   "source": [
    "np.percentile(sample_mean_coll_m,[0.025,97.5])"
   ]
  },
  {
   "cell_type": "code",
   "execution_count": 146,
   "metadata": {
    "colab": {
     "base_uri": "https://localhost:8080/"
    },
    "id": "k-Qg47GQeGKI",
    "outputId": "9f71934d-0724-4030-e958-97818f4fa52e"
   },
   "outputs": [
    {
     "data": {
      "text/plain": [
       "-84.33476737500132"
      ]
     },
     "execution_count": 146,
     "metadata": {},
     "output_type": "execute_result"
    }
   ],
   "source": [
    "#overlap in interval\n",
    "np.percentile(sample_mean_coll,97.5)-np.percentile(sample_mean_coll_m,0.025)"
   ]
  },
  {
   "cell_type": "markdown",
   "metadata": {
    "id": "Hc3KAwTRZUmd"
   },
   "source": [
    "#CI 99%"
   ]
  },
  {
   "cell_type": "code",
   "execution_count": 147,
   "metadata": {
    "colab": {
     "base_uri": "https://localhost:8080/"
    },
    "id": "uBFwLSctZTc0",
    "outputId": "6170f389-51f7-480c-8f0a-02c0d032a335"
   },
   "outputs": [
    {
     "data": {
      "text/plain": [
       "array([8374.2796166, 9010.6449975])"
      ]
     },
     "execution_count": 147,
     "metadata": {},
     "output_type": "execute_result"
    }
   ],
   "source": [
    "np.percentile(sample_mean_coll,[0.005,99.5])"
   ]
  },
  {
   "cell_type": "code",
   "execution_count": 148,
   "metadata": {
    "colab": {
     "base_uri": "https://localhost:8080/"
    },
    "id": "_47gtpvLZfPw",
    "outputId": "c03b254e-9e45-446b-d549-fa5f0713aadf"
   },
   "outputs": [
    {
     "data": {
      "text/plain": [
       "array([9012.10394197, 9728.6684125 ])"
      ]
     },
     "execution_count": 148,
     "metadata": {},
     "output_type": "execute_result"
    }
   ],
   "source": [
    "np.percentile(sample_mean_coll_m,[0.005,99.5])"
   ]
  },
  {
   "cell_type": "code",
   "execution_count": 149,
   "metadata": {
    "colab": {
     "base_uri": "https://localhost:8080/"
    },
    "id": "9qzTZ6fyeN_F",
    "outputId": "46cfde8f-4f25-41df-a734-71aa7525e3fd"
   },
   "outputs": [
    {
     "data": {
      "text/plain": [
       "-1.458944474999953"
      ]
     },
     "execution_count": 149,
     "metadata": {},
     "output_type": "execute_result"
    }
   ],
   "source": [
    "#overlap in interval\n",
    "np.percentile(sample_mean_coll,99.5)-np.percentile(sample_mean_coll_m,0.005)"
   ]
  },
  {
   "cell_type": "markdown",
   "metadata": {
    "id": "Jz9C8DMAiisn"
   },
   "source": [
    "# Insights and recommendations\n",
    "\n",
    "1. The overlapping region is nil. So wallmart needs to devise separate strategy for female purchase values and separate startegy for male purchase value."
   ]
  },
  {
   "cell_type": "markdown",
   "metadata": {},
   "source": [
    "# Why are women spending less than men\n",
    "\n",
    "to analyze this we look at \n",
    "1.top product categories of men and women\n",
    "\n",
    "--we see that out of 5, 4 top product categories of men and women orders are same. From this we can conclude that women tend to buy lower value products compared to men.\n",
    "\n",
    "2.expenses of married and unmarried women and men - this will help us check if married women are billing on their husband's name or their husband's are buying for them"
   ]
  },
  {
   "cell_type": "code",
   "execution_count": 40,
   "metadata": {},
   "outputs": [
    {
     "data": {
      "text/plain": [
       "5    41961\n",
       "8    33558\n",
       "1    24831\n",
       "3     6006\n",
       "2     5658\n",
       "Name: Product_Category, dtype: int64"
      ]
     },
     "execution_count": 40,
     "metadata": {},
     "output_type": "execute_result"
    }
   ],
   "source": [
    "female['Product_Category'].value_counts()[:5]"
   ]
  },
  {
   "cell_type": "code",
   "execution_count": 41,
   "metadata": {},
   "outputs": [
    {
     "data": {
      "text/plain": [
       "1     115547\n",
       "5     108972\n",
       "8      80367\n",
       "11     19548\n",
       "2      18206\n",
       "Name: Product_Category, dtype: int64"
      ]
     },
     "execution_count": 41,
     "metadata": {},
     "output_type": "execute_result"
    }
   ],
   "source": [
    "male['Product_Category'].value_counts()[:5]"
   ]
  },
  {
   "cell_type": "code",
   "execution_count": 18,
   "metadata": {
    "id": "Yimxtyqjii7o"
   },
   "outputs": [],
   "source": [
    "married_women=DMart.loc[(DMart['Marital_Status']==1)&(DMart['Gender']=='F')]\n",
    "unmarried_women=DMart.loc[(DMart['Marital_Status']==0)&(DMart['Gender']=='F')]\n",
    "married_men=DMart.loc[(DMart['Marital_Status']==1)&(DMart['Gender']=='M')]\n",
    "unmarried_men=DMart.loc[(DMart['Marital_Status']==0)&(DMart['Gender']=='M')]"
   ]
  },
  {
   "cell_type": "code",
   "execution_count": 19,
   "metadata": {},
   "outputs": [
    {
     "data": {
      "text/plain": [
       "<AxesSubplot:ylabel='Count'>"
      ]
     },
     "execution_count": 19,
     "metadata": {},
     "output_type": "execute_result"
    },
    {
     "data": {
      "image/png": "[encoded data removed]",
      "text/plain": [
       "<Figure size 640x480 with 1 Axes>"
      ]
     },
     "metadata": {},
     "output_type": "display_data"
    }
   ],
   "source": [
    "#Married women mean\n",
    "sample_size=2000\n",
    "sample_mean_coll_mrw=[]\n",
    "for person in range(10000):\n",
    "  sample_mean=married_women['Purchase'].sample(sample_size).mean()\n",
    "  sample_mean_coll_mrw.append(sample_mean)\n",
    "sns.histplot(sample_mean_coll_mrw)"
   ]
  },
  {
   "cell_type": "code",
   "execution_count": 29,
   "metadata": {},
   "outputs": [
    {
     "data": {
      "text/plain": [
       "<AxesSubplot:ylabel='Count'>"
      ]
     },
     "execution_count": 29,
     "metadata": {},
     "output_type": "execute_result"
    },
    {
     "data": {
      "image/png": "[encoded data removed]",
      "text/plain": [
       "<Figure size 640x480 with 1 Axes>"
      ]
     },
     "metadata": {},
     "output_type": "display_data"
    }
   ],
   "source": [
    "#Unmarried women mean\n",
    "sample_size=2000\n",
    "sample_mean_coll_umrw=[]\n",
    "for person in range(10000):\n",
    "  sample_mean=unmarried_women['Purchase'].sample(sample_size).mean()\n",
    "  sample_mean_coll_umrw.append(sample_mean)\n",
    "sns.histplot(sample_mean_coll_umrw)"
   ]
  },
  {
   "cell_type": "markdown",
   "metadata": {},
   "source": [
    "# CI 90%"
   ]
  },
  {
   "cell_type": "code",
   "execution_count": 22,
   "metadata": {},
   "outputs": [
    {
     "data": {
      "text/plain": [
       "array([8465.12594875, 8981.341     ])"
      ]
     },
     "execution_count": 22,
     "metadata": {},
     "output_type": "execute_result"
    }
   ],
   "source": [
    "import numpy as np\n",
    "np.percentile(sample_mean_coll_mrw,[0.05,95])"
   ]
  },
  {
   "cell_type": "code",
   "execution_count": 30,
   "metadata": {},
   "outputs": [
    {
     "data": {
      "text/plain": [
       "array([8330.095314, 8853.46805 ])"
      ]
     },
     "execution_count": 30,
     "metadata": {},
     "output_type": "execute_result"
    }
   ],
   "source": [
    "np.percentile(sample_mean_coll_umrw,[0.05,95])"
   ]
  },
  {
   "cell_type": "code",
   "execution_count": 24,
   "metadata": {},
   "outputs": [
    {
     "data": {
      "text/plain": [
       "<AxesSubplot:ylabel='Count'>"
      ]
     },
     "execution_count": 24,
     "metadata": {},
     "output_type": "execute_result"
    },
    {
     "data": {
      "image/png": "[encoded data removed]",
      "text/plain": [
       "<Figure size 640x480 with 1 Axes>"
      ]
     },
     "metadata": {},
     "output_type": "display_data"
    }
   ],
   "source": [
    "#Married men mean\n",
    "sample_size=2000\n",
    "sample_mean_coll_mrm=[]\n",
    "for person in range(10000):\n",
    "  sample_mean=married_men['Purchase'].sample(sample_size).mean()\n",
    "  sample_mean_coll_mrm.append(sample_mean)\n",
    "sns.histplot(sample_mean_coll_mrm)"
   ]
  },
  {
   "cell_type": "code",
   "execution_count": 31,
   "metadata": {},
   "outputs": [
    {
     "data": {
      "text/plain": [
       "<AxesSubplot:ylabel='Count'>"
      ]
     },
     "execution_count": 31,
     "metadata": {},
     "output_type": "execute_result"
    },
    {
     "data": {
      "image/png": "[encoded data removed]",
      "text/plain": [
       "<Figure size 640x480 with 1 Axes>"
      ]
     },
     "metadata": {},
     "output_type": "display_data"
    }
   ],
   "source": [
    "#Unmarried men mean\n",
    "sample_size=2000\n",
    "sample_mean_coll_umrm=[]\n",
    "for person in range(10000):\n",
    "  sample_mean=unmarried_men['Purchase'].sample(sample_size).mean()\n",
    "  sample_mean_coll_umrm.append(sample_mean)\n",
    "sns.histplot(sample_mean_coll_umrm)"
   ]
  },
  {
   "cell_type": "code",
   "execution_count": 26,
   "metadata": {},
   "outputs": [
    {
     "data": {
      "text/plain": [
       "array([9045.671916, 9596.381125])"
      ]
     },
     "execution_count": 26,
     "metadata": {},
     "output_type": "execute_result"
    }
   ],
   "source": [
    "np.percentile(sample_mean_coll_mrm,[0.05,95])"
   ]
  },
  {
   "cell_type": "code",
   "execution_count": 32,
   "metadata": {},
   "outputs": [
    {
     "data": {
      "text/plain": [
       "array([9086.60052475, 9643.97865   ])"
      ]
     },
     "execution_count": 32,
     "metadata": {},
     "output_type": "execute_result"
    }
   ],
   "source": [
    "np.percentile(sample_mean_coll_umrm,[0.05,95])"
   ]
  },
  {
   "cell_type": "markdown",
   "metadata": {},
   "source": [
    "# overlap in interval\n",
    "\n",
    "We see that the mean purchase interval for married and unmarried women overlaps. similarly the mean purchase interval of married men and unmarried men also fully overlaps.\n",
    "\n",
    "So we cannot say that women are billing on men's name or men are buying for women.\n",
    "\n",
    "We can only say that women buy low value products compared to men"
   ]
  },
  {
   "cell_type": "markdown",
   "metadata": {
    "id": "5C9o6DkcZiP-"
   },
   "source": [
    "# Marital_Status"
   ]
  },
  {
   "cell_type": "code",
   "execution_count": 89,
   "metadata": {
    "colab": {
     "base_uri": "https://localhost:8080/"
    },
    "id": "4eZFLpluZhUl",
    "outputId": "5b4bf10f-cc05-42c3-ddd9-d3847e7221b6"
   },
   "outputs": [
    {
     "data": {
      "text/plain": [
       "324731"
      ]
     },
     "execution_count": 89,
     "metadata": {},
     "output_type": "execute_result"
    }
   ],
   "source": [
    "married=DMart.loc[DMart['Marital_Status']==0]\n",
    "len(married)"
   ]
  },
  {
   "cell_type": "code",
   "execution_count": 90,
   "metadata": {
    "colab": {
     "base_uri": "https://localhost:8080/"
    },
    "id": "e1gpz_SmZuSG",
    "outputId": "8b146e4e-1d10-449c-f84d-c24e5e76a0ef"
   },
   "outputs": [
    {
     "data": {
      "text/plain": [
       "225337"
      ]
     },
     "execution_count": 90,
     "metadata": {},
     "output_type": "execute_result"
    }
   ],
   "source": [
    "unmarried=DMart.loc[DMart['Marital_Status']==1]\n",
    "len(unmarried)"
   ]
  },
  {
   "cell_type": "code",
   "execution_count": 150,
   "metadata": {
    "colab": {
     "base_uri": "https://localhost:8080/",
     "height": 447
    },
    "id": "1SZ3QHzuZyT1",
    "outputId": "e01353c6-b4a2-464e-d0ad-8bfa4083897e"
   },
   "outputs": [
    {
     "data": {
      "text/plain": [
       "<Axes: ylabel='Count'>"
      ]
     },
     "execution_count": 150,
     "metadata": {},
     "output_type": "execute_result"
    },
    {
     "data": {
      "image/png": "[encoded data removed]",
      "text/plain": [
       "<Figure size 640x480 with 1 Axes>"
      ]
     },
     "metadata": {},
     "output_type": "display_data"
    }
   ],
   "source": [
    "#Married mean\n",
    "sample_size=2000\n",
    "sample_mean_coll_mr=[]\n",
    "for person in range(10000):\n",
    "  sample_mean=married['Purchase'].sample(sample_size).mean()\n",
    "  sample_mean_coll_mr.append(sample_mean)\n",
    "sns.histplot(sample_mean_coll_mr)"
   ]
  },
  {
   "cell_type": "code",
   "execution_count": 151,
   "metadata": {
    "colab": {
     "base_uri": "https://localhost:8080/",
     "height": 447
    },
    "id": "K-wS4H-waD7Q",
    "outputId": "6aea86f6-1036-47bf-b2e2-2962b085be85"
   },
   "outputs": [
    {
     "data": {
      "text/plain": [
       "<Axes: ylabel='Count'>"
      ]
     },
     "execution_count": 151,
     "metadata": {},
     "output_type": "execute_result"
    },
    {
     "data": {
      "image/png": "[encoded data removed]",
      "text/plain": [
       "<Figure size 640x480 with 1 Axes>"
      ]
     },
     "metadata": {},
     "output_type": "display_data"
    }
   ],
   "source": [
    "#Unmarried mean\n",
    "sample_size=2000\n",
    "sample_mean_coll_umr=[]\n",
    "for person in range(10000):\n",
    "  sample_mean=unmarried['Purchase'].sample(sample_size).mean()\n",
    "  sample_mean_coll_umr.append(sample_mean)\n",
    "sns.histplot(sample_mean_coll_umr)"
   ]
  },
  {
   "cell_type": "code",
   "execution_count": null,
   "metadata": {
    "id": "pn8Yl3kfaXe1"
   },
   "outputs": [],
   "source": []
  },
  {
   "cell_type": "markdown",
   "metadata": {
    "id": "RRmu6ZCnagEr"
   },
   "source": [
    "#CI 90%"
   ]
  },
  {
   "cell_type": "code",
   "execution_count": 152,
   "metadata": {
    "colab": {
     "base_uri": "https://localhost:8080/"
    },
    "id": "BPyZkY86agEr",
    "outputId": "27d75bf0-4f4f-415e-c225-246dea847d38"
   },
   "outputs": [
    {
     "data": {
      "text/plain": [
       "array([8896.01148125, 9448.487625  ])"
      ]
     },
     "execution_count": 152,
     "metadata": {},
     "output_type": "execute_result"
    }
   ],
   "source": [
    "np.percentile(sample_mean_coll_mr,[0.05,95])"
   ]
  },
  {
   "cell_type": "code",
   "execution_count": 153,
   "metadata": {
    "colab": {
     "base_uri": "https://localhost:8080/"
    },
    "id": "gfNiJzO2agEs",
    "outputId": "ccdecd14-e3a8-460e-c018-1c7052e81cc1"
   },
   "outputs": [
    {
     "data": {
      "text/plain": [
       "array([8892.244277, 9443.426   ])"
      ]
     },
     "execution_count": 153,
     "metadata": {},
     "output_type": "execute_result"
    }
   ],
   "source": [
    "np.percentile(sample_mean_coll_umr,[0.05,95])"
   ]
  },
  {
   "cell_type": "markdown",
   "metadata": {
    "id": "3bQ9X2-4agEs"
   },
   "source": [
    "#CI 95%"
   ]
  },
  {
   "cell_type": "code",
   "execution_count": 154,
   "metadata": {
    "colab": {
     "base_uri": "https://localhost:8080/"
    },
    "id": "oTTsSB_ragEs",
    "outputId": "1d5ba326-cf39-40f6-f63c-1cea7d8ba17a"
   },
   "outputs": [
    {
     "data": {
      "text/plain": [
       "array([8886.98815475, 9482.380175  ])"
      ]
     },
     "execution_count": 154,
     "metadata": {},
     "output_type": "execute_result"
    }
   ],
   "source": [
    "np.percentile(sample_mean_coll_mr,[0.025,97.5])"
   ]
  },
  {
   "cell_type": "code",
   "execution_count": 155,
   "metadata": {
    "colab": {
     "base_uri": "https://localhost:8080/"
    },
    "id": "d-NHm9ojagEs",
    "outputId": "b2eef25b-6772-4eda-8216-d3e5e2ea4a38"
   },
   "outputs": [
    {
     "data": {
      "text/plain": [
       "array([8873.58353863, 9480.311375  ])"
      ]
     },
     "execution_count": 155,
     "metadata": {},
     "output_type": "execute_result"
    }
   ],
   "source": [
    "np.percentile(sample_mean_coll_umr,[0.025,97.5])"
   ]
  },
  {
   "cell_type": "markdown",
   "metadata": {
    "id": "SNt78ijbagEs"
   },
   "source": [
    "#CI 99%"
   ]
  },
  {
   "cell_type": "code",
   "execution_count": 156,
   "metadata": {
    "colab": {
     "base_uri": "https://localhost:8080/"
    },
    "id": "b5DA2sNBagEs",
    "outputId": "f6c02e8a-92cd-48da-e6e8-4668a1424374"
   },
   "outputs": [
    {
     "data": {
      "text/plain": [
       "array([8863.66842838, 9554.2614625 ])"
      ]
     },
     "execution_count": 156,
     "metadata": {},
     "output_type": "execute_result"
    }
   ],
   "source": [
    "np.percentile(sample_mean_coll_mr,[0.005,99.5])"
   ]
  },
  {
   "cell_type": "code",
   "execution_count": 157,
   "metadata": {
    "colab": {
     "base_uri": "https://localhost:8080/"
    },
    "id": "1-rqKEdbagEt",
    "outputId": "f7541850-d6a1-4bc3-b141-9828fa056d5d"
   },
   "outputs": [
    {
     "data": {
      "text/plain": [
       "array([8825.43200752, 9550.2396625 ])"
      ]
     },
     "execution_count": 157,
     "metadata": {},
     "output_type": "execute_result"
    }
   ],
   "source": [
    "np.percentile(sample_mean_coll_umr,[0.005,99.5])"
   ]
  },
  {
   "cell_type": "markdown",
   "metadata": {
    "id": "qpolQ4_ie-Oz"
   },
   "source": [
    "#Insights and recommendations\n",
    "\n",
    "1. The mean purchase value interval almost fully overlaps for married and unmarried customers, wallmart can deploy same strategy for both customers"
   ]
  },
  {
   "cell_type": "markdown",
   "metadata": {
    "id": "CMuuGq3pas25"
   },
   "source": [
    "# Age group - 26-35 highest selling"
   ]
  },
  {
   "cell_type": "code",
   "execution_count": 101,
   "metadata": {
    "colab": {
     "base_uri": "https://localhost:8080/"
    },
    "id": "AL6HS9g7aZUy",
    "outputId": "f63cf8b1-0672-458c-d5cf-f914717f1ebf"
   },
   "outputs": [
    {
     "data": {
      "text/plain": [
       "219587"
      ]
     },
     "execution_count": 101,
     "metadata": {},
     "output_type": "execute_result"
    }
   ],
   "source": [
    "age=DMart.loc[DMart['Age']=='26-35']\n",
    "len(age)"
   ]
  },
  {
   "cell_type": "code",
   "execution_count": 103,
   "metadata": {
    "colab": {
     "base_uri": "https://localhost:8080/"
    },
    "id": "My6nTxHKb3vb",
    "outputId": "bfb49a96-e10d-4e38-bd28-a52c5490ea16"
   },
   "outputs": [
    {
     "data": {
      "text/plain": [
       "330481"
      ]
     },
     "execution_count": 103,
     "metadata": {},
     "output_type": "execute_result"
    }
   ],
   "source": [
    "age_other=DMart.loc[DMart['Age']!='26-35']\n",
    "len(age_other)"
   ]
  },
  {
   "cell_type": "code",
   "execution_count": 158,
   "metadata": {
    "colab": {
     "base_uri": "https://localhost:8080/",
     "height": 447
    },
    "id": "9kgV9X_Ubsrr",
    "outputId": "829ffb01-0683-47a9-d959-02ca0539dbd2"
   },
   "outputs": [
    {
     "data": {
      "text/plain": [
       "<Axes: ylabel='Count'>"
      ]
     },
     "execution_count": 158,
     "metadata": {},
     "output_type": "execute_result"
    },
    {
     "data": {
      "image/png": "[encoded data removed]",
      "text/plain": [
       "<Figure size 640x480 with 1 Axes>"
      ]
     },
     "metadata": {},
     "output_type": "display_data"
    }
   ],
   "source": [
    "#26-35 age mean\n",
    "sample_size=2000\n",
    "sample_mean_coll_age=[]\n",
    "for person in range(10000):\n",
    "  sample_mean=married['Purchase'].sample(sample_size).mean()\n",
    "  sample_mean_coll_age.append(sample_mean)\n",
    "sns.histplot(sample_mean_coll_age)"
   ]
  },
  {
   "cell_type": "code",
   "execution_count": 159,
   "metadata": {
    "colab": {
     "base_uri": "https://localhost:8080/",
     "height": 447
    },
    "id": "qYxE3wSocAS8",
    "outputId": "c427754b-291a-47c7-f1a7-be4a2330bd9e"
   },
   "outputs": [
    {
     "data": {
      "text/plain": [
       "<Axes: ylabel='Count'>"
      ]
     },
     "execution_count": 159,
     "metadata": {},
     "output_type": "execute_result"
    },
    {
     "data": {
      "image/png": "[encoded data removed]",
      "text/plain": [
       "<Figure size 640x480 with 1 Axes>"
      ]
     },
     "metadata": {},
     "output_type": "display_data"
    }
   ],
   "source": [
    "#remaining age groups mean\n",
    "sample_size=2000\n",
    "sample_mean_coll_ager=[]\n",
    "for person in range(10000):\n",
    "  sample_mean=married['Purchase'].sample(sample_size).mean()\n",
    "  sample_mean_coll_ager.append(sample_mean)\n",
    "sns.histplot(sample_mean_coll_ager)"
   ]
  },
  {
   "cell_type": "code",
   "execution_count": 159,
   "metadata": {
    "id": "Al0Os4UpcGaa"
   },
   "outputs": [],
   "source": []
  },
  {
   "cell_type": "markdown",
   "metadata": {
    "id": "FBV2v9PbcLT6"
   },
   "source": [
    "#CI 90%"
   ]
  },
  {
   "cell_type": "code",
   "execution_count": 160,
   "metadata": {
    "colab": {
     "base_uri": "https://localhost:8080/"
    },
    "id": "XqZLcDYXcLT7",
    "outputId": "e0feb2fe-3d4c-4502-ea69-558121c372c2"
   },
   "outputs": [
    {
     "data": {
      "text/plain": [
       "array([8908.2409715, 9448.81065  ])"
      ]
     },
     "execution_count": 160,
     "metadata": {},
     "output_type": "execute_result"
    }
   ],
   "source": [
    "np.percentile(sample_mean_coll_age,[0.05,95])"
   ]
  },
  {
   "cell_type": "code",
   "execution_count": 161,
   "metadata": {
    "colab": {
     "base_uri": "https://localhost:8080/"
    },
    "id": "pdoSbf8scLT7",
    "outputId": "db990a00-7ae9-46e1-f813-218949e78dc7"
   },
   "outputs": [
    {
     "data": {
      "text/plain": [
       "array([8921.251501, 9449.866025])"
      ]
     },
     "execution_count": 161,
     "metadata": {},
     "output_type": "execute_result"
    }
   ],
   "source": [
    "np.percentile(sample_mean_coll_ager,[0.05,95])"
   ]
  },
  {
   "cell_type": "markdown",
   "metadata": {
    "id": "57ukXOOZcLT7"
   },
   "source": [
    "#CI 95%"
   ]
  },
  {
   "cell_type": "code",
   "execution_count": 162,
   "metadata": {
    "colab": {
     "base_uri": "https://localhost:8080/"
    },
    "id": "w2iLT-eycLT8",
    "outputId": "45d6989d-caf1-452d-bc2d-c9eaa0087f84"
   },
   "outputs": [
    {
     "data": {
      "text/plain": [
       "array([8890.6618215, 9481.8273875])"
      ]
     },
     "execution_count": 162,
     "metadata": {},
     "output_type": "execute_result"
    }
   ],
   "source": [
    "np.percentile(sample_mean_coll_age,[0.025,97.5])"
   ]
  },
  {
   "cell_type": "code",
   "execution_count": 163,
   "metadata": {
    "colab": {
     "base_uri": "https://localhost:8080/"
    },
    "id": "gQTa5aM-cLT8",
    "outputId": "66a94d0a-ffd6-4fa9-e5f9-a733604bb19a"
   },
   "outputs": [
    {
     "data": {
      "text/plain": [
       "array([8905.00043225, 9487.13005   ])"
      ]
     },
     "execution_count": 163,
     "metadata": {},
     "output_type": "execute_result"
    }
   ],
   "source": [
    "np.percentile(sample_mean_coll_ager,[0.025,97.5])"
   ]
  },
  {
   "cell_type": "markdown",
   "metadata": {
    "id": "XoMdDv3ScLT8"
   },
   "source": [
    "#CI 99%"
   ]
  },
  {
   "cell_type": "code",
   "execution_count": 164,
   "metadata": {
    "colab": {
     "base_uri": "https://localhost:8080/"
    },
    "id": "hzWliYyocLT8",
    "outputId": "409cadc6-53dc-4595-8381-19a300985749"
   },
   "outputs": [
    {
     "data": {
      "text/plain": [
       "array([8822.17962917, 9545.1851075 ])"
      ]
     },
     "execution_count": 164,
     "metadata": {},
     "output_type": "execute_result"
    }
   ],
   "source": [
    "np.percentile(sample_mean_coll_age,[0.005,99.5])"
   ]
  },
  {
   "cell_type": "code",
   "execution_count": 165,
   "metadata": {
    "colab": {
     "base_uri": "https://localhost:8080/"
    },
    "id": "GB9to-pecLT8",
    "outputId": "e9114d42-18c4-4583-8b7d-06987657946f"
   },
   "outputs": [
    {
     "data": {
      "text/plain": [
       "array([8894.479996 , 9556.8599325])"
      ]
     },
     "execution_count": 165,
     "metadata": {},
     "output_type": "execute_result"
    }
   ],
   "source": [
    "np.percentile(sample_mean_coll_ager,[0.005,99.5])"
   ]
  },
  {
   "cell_type": "markdown",
   "metadata": {
    "id": "uCRi6mWCeoCE"
   },
   "source": []
  },
  {
   "cell_type": "markdown",
   "metadata": {
    "id": "k5S1pphVeoIA"
   },
   "source": [
    "#Insights and recommendations\n",
    "\n",
    "1. The mean intervals for all age bins are overlapping with highest selling age bin, Wallmart can use the same strategy for all age bins"
   ]
  },
  {
   "cell_type": "code",
   "execution_count": null,
   "metadata": {
    "id": "vkZ3sLX1cTdu"
   },
   "outputs": [],
   "source": []
  },
  {
   "cell_type": "markdown",
   "metadata": {
    "id": "ee4puLvvi3B_"
   },
   "source": [
    "#Notes\n",
    "\n",
    "Evaluation Criteria\n",
    "\n",
    "Defining Problem Statement and Analyzing basic metrics (10 Points)\n",
    "Observations on shape of data, data types of all the attributes, conversion of categorical attributes to 'category' (If required), statistical summary\n",
    "Non-Graphical Analysis: Value counts and unique attributes ​\n",
    "Visual Analysis - Univariate & Bivariate\n",
    "For continuous variable(s): Distplot, countplot, histogram for univariate analysis\n",
    "For categorical variable(s): Boxplot\n",
    "For correlation: Heatmaps, Pairplots\n",
    "Missing Value & Outlier Detection (10 Points)\n",
    "Business Insights based on Non- Graphical and Visual Analysis (10 Points)\n",
    "Comments on the range of attributes\n",
    "Comments on the distribution of the variables and relationship between them\n",
    "Comments for each univariate and bivariate plot\n",
    "Answering questions (50 Points)\n",
    "Are women spending more money per transaction than men? Why or Why not? (10 Points)\n",
    "Confidence intervals and distribution of the mean of the expenses by female and male customers (10 Points)\n",
    "Are confidence intervals of average male and female spending overlapping? How can DMart leverage this conclusion to make changes or improvements? (10 Points)\n",
    "Results when the same activity is performed for Married vs Unmarried (10 Points)\n",
    "Results when the same activity is performed for Age (10 Points)\n",
    "Final Insights (10 Points) - Illustrate the insights based on exploration and CLT\n",
    "Comments on the distribution of the variables and relationship between them\n",
    "Comments for each univariate and bivariate plots\n",
    "Comments on different variables when generalizing it for Population\n",
    "Recommendations (10 Points)\n",
    "Actionable items for business. No technical jargon. No complications. Simple action items that everyone can understand\n",
    "Submission Process:\n",
    "\n",
    "Type your insights and recommendations in the text editor.\n",
    "Convert your jupyter notebook into PDF (Save as PDF using Chrome browser’s Print command), upload it in your Google Drive (set the permission to allow public access), and paste that link in the text editor.\n",
    "Optionally, you may add images/graphs in the text editor by taking screenshots or saving matplotlib graphs using plt.savefig(...).\n",
    "After submitting, you will not be allowed to edit your submission.\n",
    "\n"
   ]
  }
 ],
 "metadata": {
  "colab": {
   "provenance": []
  },
  "kernelspec": {
   "display_name": "Python 3 (ipykernel)",
   "language": "python",
   "name": "python3"
  },
  "language_info": {
   "codemirror_mode": {
    "name": "ipython",
    "version": 3
   },
   "file_extension": ".py",
   "mimetype": "text/x-python",
   "name": "python",
   "nbconvert_exporter": "python",
   "pygments_lexer": "ipython3",
   "version": "3.9.13"
  }
 },
 "nbformat": 4,
 "nbformat_minor": 1
}
